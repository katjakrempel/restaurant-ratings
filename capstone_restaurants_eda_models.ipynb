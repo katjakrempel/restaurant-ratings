{
 "cells": [
  {
   "cell_type": "markdown",
   "id": "aac1aab1",
   "metadata": {},
   "source": [
    "### Predicting restaurant ratings"
   ]
  },
  {
   "cell_type": "code",
   "execution_count": null,
   "id": "acaf59d7",
   "metadata": {},
   "outputs": [],
   "source": [
    "import pandas as pd\n",
    "import numpy as np\n",
    "import requests\n",
    "import random\n",
    "import time\n",
    "import re\n",
    "import os, glob\n",
    "\n",
    "import scipy.stats as stats\n",
    "import seaborn as sns\n",
    "import matplotlib.pyplot as plt\n",
    "import scikitplot as skplt\n",
    "\n",
    "pd.options.display.max_colwidth = 300\n",
    "pd.options.display.max_columns = 100\n",
    "plt.style.use('ggplot')\n",
    "\n",
    "%config InlineBackend.figure_format = 'retina'\n",
    "%matplotlib inline"
   ]
  },
  {
   "cell_type": "code",
   "execution_count": null,
   "id": "b543a5eb",
   "metadata": {},
   "outputs": [],
   "source": [
    "# load data\n",
    "df = pd.read_csv('/Users/katjakrempel/Desktop/capstone/fsa_yelp_final.csv')\n",
    "df.head()"
   ]
  },
  {
   "cell_type": "code",
   "execution_count": null,
   "id": "37495185",
   "metadata": {},
   "outputs": [],
   "source": [
    "df.info()"
   ]
  },
  {
   "cell_type": "code",
   "execution_count": null,
   "id": "9ea76bdf",
   "metadata": {},
   "outputs": [],
   "source": [
    "df.shape"
   ]
  },
  {
   "cell_type": "code",
   "execution_count": null,
   "id": "93994dce",
   "metadata": {},
   "outputs": [],
   "source": [
    "# drop duplicate rows\n",
    "df.drop_duplicates(inplace=True)"
   ]
  },
  {
   "cell_type": "code",
   "execution_count": null,
   "id": "0f30b942",
   "metadata": {},
   "outputs": [],
   "source": [
    "df.shape"
   ]
  },
  {
   "cell_type": "code",
   "execution_count": null,
   "id": "14e5a09d",
   "metadata": {},
   "outputs": [],
   "source": []
  },
  {
   "cell_type": "markdown",
   "id": "303953a8",
   "metadata": {},
   "source": [
    "#### Data Dictionary"
   ]
  },
  {
   "cell_type": "code",
   "execution_count": null,
   "id": "4f2007ff",
   "metadata": {},
   "outputs": [],
   "source": [
    "var_names = df.columns\n",
    "var_names"
   ]
  },
  {
   "cell_type": "code",
   "execution_count": null,
   "id": "f9c7728b",
   "metadata": {},
   "outputs": [],
   "source": [
    "data = {'FHRSID': {'type': 'integer', 'source': 'Food Standards Agency', 'description': 'Food Hygiene Rating Scheme (FHRS) ID of business'},\n",
    "        'BusinessName': {'type': 'string', 'source': 'Food Standards Agency', 'description': 'business name'},\n",
    "        'BusinessType': {'type': 'string', 'source': 'Food Standards Agency', 'description': 'relevant business types in dataset: Restaurant/Cafe/Canteen, Pub/bar/nightclub, Takeaway/sandwich shop'},\n",
    "        'BusinessTypeID': {'type': 'integer', 'source': 'Food Standards Agency', 'description': 'numerical ID of business types listed above'},\n",
    "        'AddressLine1': {'type': 'string', 'source': 'Food Standards Agency', 'description': 'street address of business'},\n",
    "        'AddressLine2':{'type': 'string', 'source': 'Food Standards Agency', 'description': 'street address of business'},\n",
    "        'AddressLine3': {'type': 'string', 'source': 'Food Standards Agency', 'description': 'street address of business'},\n",
    "        'AddressLine4': {'type': 'string', 'source': 'Food Standards Agency', 'description': 'street address of business'}, \n",
    "        'PostCode': {'type': 'string', 'source': 'Food Standards Agency', 'description': 'postcode'}, \n",
    "        'RatingValue': {'type': 'string', 'source': 'Food Standards Agency', 'description': 'overall rating score: 5 - very good, 4 - good, 3 - generally satisfactory, 2 - some improvement necessary, 1 - major improvement necessary, 0 - urgent improvement necessary'}, \n",
    "        'RatingKey': {'type': 'string', 'source': 'Food Standards Agency', 'description': 'combination of rating scheme and score'},\n",
    "        'RatingDate': {'type': 'string', 'source': 'Food Standards Agency', 'description': 'rating date (YYYY-MM-DD)'},\n",
    "        'LocalAuthorityCode': {'type': 'string', 'source': 'Food Standards Agency', 'description': 'numerical ID of local authority responsible for enforcing food hygiene standards'},\n",
    "        'LocalAuthorityName': {'type': 'string', 'source': 'Food Standards Agency', 'description': 'name of local authority responsible for enforcing food hygiene standards'},\n",
    "        'Hygiene': {'type': 'integer', 'source': 'Food Standards Agency', 'description': 'component score: compliance with food hygiene and safety procedures (0 - very good, 5 - good, 10 - generally satisfactory, 15 - improvement necessary, 20 - major improvement necessary, 25 - urgent improvement necessary)'},\n",
    "        'Structural': {'type': 'integer', 'source': 'Food Standards Agency', 'description': 'component score: compliance with structural requirements (0 - very good, 5 - good, 10 - generally satisfactory, 15 - improvement necessary, 20 - major improvement necessary, 25 - urgent improvement necessary)'},\n",
    "        'ConfidenceInManagement': {'type': 'integer', 'source': 'Food Standards Agency', 'description': 'component score: confidence in management/control procedures (0 - very good, 5 - good, 10 - generally satisfactory, 20 - major improvement necessary, 30 - urgent improvement necessary)'},\n",
    "        'longitude_x': {'type': 'string', 'source': 'Food Standards Agency', 'description': 'geolocation - longitude'},\n",
    "        'latitude_x': {'type': 'string', 'source': 'Food Standards Agency', 'description': 'geolocation - latitude'}, \n",
    "        'RightToReply': {'type': 'string', 'source': 'Food Standards Agency', 'description': 'food business operators have a right to reply; local authorities must publish this with the rating'}, \n",
    "        'NewRatingPending': {'type': 'boolean', 'source': 'Food Standards Agency', 'description': 'new rating pending during appeal and notification period, previous rating continues to be published'},\n",
    "        'name_postc': {'type': 'string', 'source': '', 'description': 'unique identifier created to match businesses in both data sets'},\n",
    "        'id': {'type': 'string', 'source': 'Yelp', 'description': 'unique Yelp ID of business'},\n",
    "        'alias': {'type': 'string', 'source': 'Yelp', 'description': 'unique Yelp alias of business'},\n",
    "        'name': {'type': 'string', 'source': 'Yelp', 'description': 'business name'},\n",
    "        'review_count': {'type': 'integer', 'source': 'Yelp', 'description': 'number of reviews of business; Yelp API only returns businesses with at least one review'},\n",
    "        'cat_1': {'type': 'string', 'source': 'Yelp', 'description': 'category associated with business, indicates cuisine or type of business (e.g. Mexican, Gastropub...); multiple categories can be selected'}, \n",
    "        'cat_2': {'type': 'string', 'source': 'Yelp', 'description': 'category associated with business, indicates cuisine or type of business (e.g. Mexican, Gastropub...); multiple categories can be selected'},\n",
    "        'cat_3': {'type': 'string', 'source': 'Yelp', 'description': 'category associated with business, indicates cuisine or type of business (e.g. Mexican, Gastropub...); multiple categories can be selected'},\n",
    "        'cat_4': {'type': 'string', 'source': 'Yelp', 'description': 'category associated with business, indicates cuisine or type of business (e.g. Mexican, Gastropub...); multiple categories can be selected'}, \n",
    "        'cat_5': {'type': 'string', 'source': 'Yelp', 'description': 'category associated with business, indicates cuisine or type of business (e.g. Mexican, Gastropub...); multiple categories can be selected'},\n",
    "        'rating': {'type': 'float', 'source': 'Yelp', 'description': 'Yelp rating of business (value range from 1, 1.5, ..., 4.5, 5)'},\n",
    "        'longitude_y': {'type': 'float', 'source': 'Yelp', 'description': 'geolocation - longitude'},\n",
    "        'latitude_y':{'type': 'float', 'source': 'Yelp', 'description': 'geolocation - latitude'},\n",
    "        'transaction_1':{'type': 'string', 'source': 'Yelp', 'description': 'Yelp transactions the business is registered for: pickup, delivery, restaurant_reservation'},\n",
    "        'transaction_2':{'type': 'string', 'source': 'Yelp', 'description': 'Yelp transactions the business is registered for: pickup, delivery, restaurant_reservation'},\n",
    "        'transaction_3':{'type': 'string', 'source': 'Yelp', 'description': 'Yelp transactions the business is registered for: pickup, delivery, restaurant_reservation'},\n",
    "        'price': {'type': 'string', 'source': 'Yelp', 'description': 'price level of business: £, ££, £££, ££££'},\n",
    "        'address1': {'type': 'string', 'source': 'Yelp', 'description': 'street address of business'},\n",
    "        'address2':{'type': 'string', 'source': 'Yelp', 'description': 'street address of business'},\n",
    "        'address3':{'type': 'string', 'source': 'Yelp', 'description': 'street address of business'},\n",
    "        'city':{'type': 'string', 'source': 'Yelp', 'description': 'city'},\n",
    "        'zip_code': {'type': 'string', 'source': 'Yelp', 'description': 'postcode'},\n",
    "        'country': {'type': 'string', 'source': 'Yelp', 'description': 'country code of business'} }\n"
   ]
  },
  {
   "cell_type": "code",
   "execution_count": null,
   "id": "734c04f6",
   "metadata": {
    "scrolled": false
   },
   "outputs": [],
   "source": [
    "data = pd.DataFrame(data, columns=var_names).T\n",
    "data"
   ]
  },
  {
   "cell_type": "code",
   "execution_count": null,
   "id": "437b5da5",
   "metadata": {},
   "outputs": [],
   "source": []
  },
  {
   "cell_type": "markdown",
   "id": "0025c302",
   "metadata": {},
   "source": [
    "#### Data Cleaning and EDA"
   ]
  },
  {
   "cell_type": "code",
   "execution_count": null,
   "id": "02dd5a97",
   "metadata": {},
   "outputs": [],
   "source": [
    "# check number of missing values per column\n",
    "df.isnull().sum()"
   ]
  },
  {
   "cell_type": "code",
   "execution_count": null,
   "id": "9b301f69",
   "metadata": {},
   "outputs": [],
   "source": [
    "# drop columns without values \n",
    "df.drop(columns=['transaction_1', 'transaction_2', 'transaction_3'], inplace=True)"
   ]
  },
  {
   "cell_type": "code",
   "execution_count": null,
   "id": "27685ed9",
   "metadata": {},
   "outputs": [],
   "source": [
    "# drop redundant name and address columns\n",
    "df.drop(columns=['BusinessName', 'AddressLine1', 'AddressLine2', 'AddressLine3', 'AddressLine4',\n",
    "                 'PostCode', 'longitude_x', 'latitude_x'], inplace=True)"
   ]
  },
  {
   "cell_type": "code",
   "execution_count": null,
   "id": "ef22a013",
   "metadata": {},
   "outputs": [],
   "source": [
    "df.info()"
   ]
  },
  {
   "cell_type": "code",
   "execution_count": null,
   "id": "075b3dd7",
   "metadata": {},
   "outputs": [],
   "source": []
  },
  {
   "cell_type": "code",
   "execution_count": null,
   "id": "fb65a81a",
   "metadata": {},
   "outputs": [],
   "source": [
    "df['BusinessType'].value_counts()"
   ]
  },
  {
   "cell_type": "code",
   "execution_count": null,
   "id": "34b40114",
   "metadata": {
    "scrolled": true
   },
   "outputs": [],
   "source": [
    "df['RatingValue'].value_counts()"
   ]
  },
  {
   "cell_type": "code",
   "execution_count": null,
   "id": "6c0e5aed",
   "metadata": {},
   "outputs": [],
   "source": [
    "# check exempt businesses\n",
    "df[['BusinessType', 'name', 'cat_1', 'cat_2', 'address1', 'city']][df['RatingValue']=='Exempt']"
   ]
  },
  {
   "cell_type": "code",
   "execution_count": null,
   "id": "1cb3eeea",
   "metadata": {},
   "outputs": [],
   "source": [
    "# define function to convert strings to floats\n",
    "def convert_to_float(x):\n",
    "    try:\n",
    "        return float(x)\n",
    "    except:\n",
    "        return np.nan"
   ]
  },
  {
   "cell_type": "code",
   "execution_count": null,
   "id": "1c562e7f",
   "metadata": {},
   "outputs": [],
   "source": [
    "# convert food hygiene ratings to float\n",
    "df['RatingValue'] = df['RatingValue'].apply(convert_to_float)"
   ]
  },
  {
   "cell_type": "code",
   "execution_count": null,
   "id": "1abc583e",
   "metadata": {},
   "outputs": [],
   "source": [
    "df['RatingValue'].value_counts(normalize=True)"
   ]
  },
  {
   "cell_type": "code",
   "execution_count": null,
   "id": "4485f5b3",
   "metadata": {},
   "outputs": [],
   "source": [
    "0.024155 + 0.013383 + 0.001697"
   ]
  },
  {
   "cell_type": "code",
   "execution_count": null,
   "id": "e79fdf54",
   "metadata": {},
   "outputs": [],
   "source": [
    "# drop rows with missing ratings (exempt, awaiting inspection, awaiting publication)\n",
    "df.dropna(subset = ['RatingValue'], inplace=True) "
   ]
  },
  {
   "cell_type": "code",
   "execution_count": null,
   "id": "0af56d6a",
   "metadata": {},
   "outputs": [],
   "source": [
    "df.info()"
   ]
  },
  {
   "cell_type": "code",
   "execution_count": null,
   "id": "c02f0712",
   "metadata": {},
   "outputs": [],
   "source": [
    "# distribution of food hygiene ratings\n",
    "fig, ax = plt.subplots(figsize=(8, 6))\n",
    "sns.countplot(data=df, x='RatingValue', palette='YlOrRd')\n",
    "ax.set_ylabel('Counts\\n', fontsize=12)\n",
    "ax.set_title('Food Hygiene Ratings distribution\\n', fontsize=14)\n",
    "plt.show()"
   ]
  },
  {
   "cell_type": "code",
   "execution_count": null,
   "id": "c538cae7",
   "metadata": {},
   "outputs": [],
   "source": [
    "# distribution of food hygiene ratings by business type\n",
    "fig, ax = plt.subplots(figsize=(8, 6))\n",
    "sns.countplot(data=df, x='RatingValue', hue='BusinessType', palette='YlOrRd')\n",
    "ax.set_ylabel('Counts\\n', fontsize=12)\n",
    "ax.set_title('Food Hygiene Ratings distribution by Business Type\\n', fontsize=14)\n",
    "plt.show()"
   ]
  },
  {
   "cell_type": "code",
   "execution_count": null,
   "id": "5cda30ff",
   "metadata": {},
   "outputs": [],
   "source": [
    "# convert RatingDate to datetime\n",
    "df['RatingDate'] = pd.to_datetime(df['RatingDate'])"
   ]
  },
  {
   "cell_type": "code",
   "execution_count": null,
   "id": "b047c19e",
   "metadata": {},
   "outputs": [],
   "source": [
    "# extract year from RatingDate\n",
    "df['rating_year'] = df['RatingDate'].dt.year"
   ]
  },
  {
   "cell_type": "code",
   "execution_count": null,
   "id": "03005efa",
   "metadata": {
    "scrolled": true
   },
   "outputs": [],
   "source": [
    "df['rating_year'].value_counts()"
   ]
  },
  {
   "cell_type": "code",
   "execution_count": null,
   "id": "923c7cbe",
   "metadata": {},
   "outputs": [],
   "source": [
    "# check businesses with most recent rating before 2010 (launch of Food Hygiene Rating Scheme)\n",
    "df[['BusinessType', 'name', 'RatingValue', 'RatingDate', 'cat_1', 'cat_2', 'address1', 'city']][df['rating_year']<2010]"
   ]
  },
  {
   "cell_type": "code",
   "execution_count": null,
   "id": "7fcbee8b",
   "metadata": {},
   "outputs": [],
   "source": [
    "# remove businesses with most recent rating before 2010\n",
    "df = df[df['rating_year']>=2010]"
   ]
  },
  {
   "cell_type": "code",
   "execution_count": null,
   "id": "5e38dca7",
   "metadata": {},
   "outputs": [],
   "source": [
    "df.info()"
   ]
  },
  {
   "cell_type": "code",
   "execution_count": null,
   "id": "46bcb700",
   "metadata": {},
   "outputs": [],
   "source": [
    "# component score - Hygiene\n",
    "df['Hygiene'].value_counts(normalize=True)"
   ]
  },
  {
   "cell_type": "code",
   "execution_count": null,
   "id": "bf2bae50",
   "metadata": {},
   "outputs": [],
   "source": [
    "# distribution of food hygiene ratings - 'Hygiene' score\n",
    "fig, ax = plt.subplots(figsize=(8, 6))\n",
    "sns.countplot(data=df, x='Hygiene', palette='YlOrRd')\n",
    "ax.set_ylabel('Counts\\n', fontsize=12)\n",
    "ax.set_title('Food Hygiene Ratings distribution (\"Hygiene\")\\n', fontsize=14)\n",
    "plt.show()"
   ]
  },
  {
   "cell_type": "code",
   "execution_count": null,
   "id": "08f93960",
   "metadata": {},
   "outputs": [],
   "source": [
    "# component score - Structural\n",
    "df['Structural'].value_counts(normalize=True)"
   ]
  },
  {
   "cell_type": "code",
   "execution_count": null,
   "id": "6ff7b637",
   "metadata": {},
   "outputs": [],
   "source": [
    "# distribution of food hygiene ratings - 'Structural' score\n",
    "fig, ax = plt.subplots(figsize=(8, 6))\n",
    "sns.countplot(data=df, x='Structural', palette='YlOrRd')\n",
    "ax.set_ylabel('Counts\\n', fontsize=12)\n",
    "ax.set_title('Food Hygiene Ratings distribution (\"Structural\")\\n', fontsize=14)\n",
    "plt.show()"
   ]
  },
  {
   "cell_type": "code",
   "execution_count": null,
   "id": "7f8f561d",
   "metadata": {},
   "outputs": [],
   "source": [
    "# component score - Confidence in Management\n",
    "df['ConfidenceInManagement'].value_counts(normalize=True)"
   ]
  },
  {
   "cell_type": "code",
   "execution_count": null,
   "id": "169a013f",
   "metadata": {},
   "outputs": [],
   "source": [
    "# distribution of food hygiene ratings - 'Confidence in Management' score\n",
    "fig, ax = plt.subplots(figsize=(8, 6))\n",
    "sns.countplot(data=df, x='ConfidenceInManagement', palette='YlOrRd')\n",
    "ax.set_ylabel('Counts\\n', fontsize=12)\n",
    "ax.set_title('Food Hygiene Ratings distribution (\"Confidence in Management\")\\n', fontsize=14)\n",
    "plt.show()"
   ]
  },
  {
   "cell_type": "code",
   "execution_count": null,
   "id": "5d1973c7",
   "metadata": {},
   "outputs": [],
   "source": [
    "df['RightToReply'].unique()"
   ]
  },
  {
   "cell_type": "code",
   "execution_count": null,
   "id": "4b81d004",
   "metadata": {
    "scrolled": false
   },
   "outputs": [],
   "source": [
    "# most common business names\n",
    "df['name'].value_counts()[:20]"
   ]
  },
  {
   "cell_type": "code",
   "execution_count": null,
   "id": "3991ad7f",
   "metadata": {},
   "outputs": [],
   "source": [
    "# identify chains based on 250 most common names in the data set\n",
    "chains = ['subway', 'mcdonalds', 'nandos', 'kfc', 'costa coffee', 'dominos pizza', \n",
    "          'pret a manger', 'starbucks', 'pizza express', 'burger king', 'caffe nero',\n",
    "          'pizza hut', 'wagamama', 'zizzi', 'five guys', 'prezzo', 'toby carvery',\n",
    "          'franco manca', 'greggs', 'papa johns', 'gourmet burger kitchen', 'all bar one', \n",
    "          'slug and lettuce', 'tgi fridays', 'leon', 'chicken cottage', 'carluccios',\n",
    "          'pho', 'frankie and bennys', 'wasabi', 'ask italian', 'le pain quotidien',\n",
    "          'itsu', 'las iguanas', 'miller and carter', 'black sheep coffee', 'botanist',\n",
    "          'pure', 'patisserie valerie', 'bills', 'tops pizza', 'pitcher and piano',\n",
    "          'comptoir libanais', 'breakfast club', 'byron', 'pizza go go', 'wahaca', \n",
    "          'burger and lobster', 'german doner kebab']"
   ]
  },
  {
   "cell_type": "code",
   "execution_count": null,
   "id": "5dcf77c4",
   "metadata": {},
   "outputs": [],
   "source": [
    "len(chains)"
   ]
  },
  {
   "cell_type": "code",
   "execution_count": null,
   "id": "af0966ab",
   "metadata": {},
   "outputs": [],
   "source": [
    "# define function to identify chains based on name\n",
    "def is_chain(x):\n",
    "    if any(chain in x.lower() for chain in chains):\n",
    "        return 1\n",
    "    else:\n",
    "        return 0"
   ]
  },
  {
   "cell_type": "code",
   "execution_count": null,
   "id": "dfbdf733",
   "metadata": {},
   "outputs": [],
   "source": [
    "df['is_chain'] = df['name'].apply(is_chain)"
   ]
  },
  {
   "cell_type": "code",
   "execution_count": null,
   "id": "5f4cb86a",
   "metadata": {},
   "outputs": [],
   "source": [
    "df[['name', 'is_chain']][:15]"
   ]
  },
  {
   "cell_type": "code",
   "execution_count": null,
   "id": "dd8a03f4",
   "metadata": {},
   "outputs": [],
   "source": [
    "df['is_chain'].value_counts(normalize=True)"
   ]
  },
  {
   "cell_type": "code",
   "execution_count": null,
   "id": "5256d579",
   "metadata": {},
   "outputs": [],
   "source": [
    "# distribution of chain vs non-chain restaurants\n",
    "fig, ax = plt.subplots(figsize=(8, 6))\n",
    "sns.countplot(data=df, x='is_chain', palette='YlOrRd')\n",
    "ax.set_ylabel('Counts\\n', fontsize=12)\n",
    "ax.set_title('Chain vs non-chain distribution\\n', fontsize=14)\n",
    "plt.show()"
   ]
  },
  {
   "cell_type": "code",
   "execution_count": null,
   "id": "58f60335",
   "metadata": {},
   "outputs": [],
   "source": [
    "# define function to extract number of businesses from alias column\n",
    "# def extract_count(x):\n",
    "#     try:\n",
    "#         return int(x.split('-')[-1])\n",
    "#     except:\n",
    "#         return np.nan"
   ]
  },
  {
   "cell_type": "code",
   "execution_count": null,
   "id": "a330d1c8",
   "metadata": {},
   "outputs": [],
   "source": [
    "# extract number of businesses from alias column\n",
    "# df['count'] = df['alias'].apply(extract_count)"
   ]
  },
  {
   "cell_type": "code",
   "execution_count": null,
   "id": "2aa6f38c",
   "metadata": {},
   "outputs": [],
   "source": [
    "# df[['alias', 'name', 'count', 'city']].sort_values(by='count', ascending=False)[:20]"
   ]
  },
  {
   "cell_type": "code",
   "execution_count": null,
   "id": "198dc067",
   "metadata": {},
   "outputs": [],
   "source": []
  },
  {
   "cell_type": "code",
   "execution_count": null,
   "id": "b5104910",
   "metadata": {},
   "outputs": [],
   "source": [
    "# descriptive statistics for review count variable\n",
    "df.review_count.describe()"
   ]
  },
  {
   "cell_type": "code",
   "execution_count": null,
   "id": "4cfd3f48",
   "metadata": {},
   "outputs": [],
   "source": [
    "# top 10 restaurants by number of reviews\n",
    "df.sort_values(by='review_count', ascending=False)[:30]"
   ]
  },
  {
   "cell_type": "code",
   "execution_count": null,
   "id": "fdb24962",
   "metadata": {},
   "outputs": [],
   "source": [
    "# Yelp review count distribution\n",
    "fig, ax = plt.subplots(figsize=(8, 6))\n",
    "sns.histplot(data=df, x=\"review_count\", binwidth=5, color='r')\n",
    "ax.set_title('Yelp review count distribution\\n', fontsize=14)\n",
    "plt.show()"
   ]
  },
  {
   "cell_type": "code",
   "execution_count": null,
   "id": "69b51a45",
   "metadata": {},
   "outputs": [],
   "source": [
    "# Yelp review count vs Yelp ratings\n",
    "ax = sns.catplot(data=df, x='rating', y='review_count', height=6, aspect=1, palette='YlOrRd')\n",
    "plt.show()"
   ]
  },
  {
   "cell_type": "code",
   "execution_count": null,
   "id": "f2f5242b",
   "metadata": {},
   "outputs": [],
   "source": [
    "# Yelp review count vs food hygiene ratings\n",
    "sns.catplot(data=df, x='RatingValue', y='review_count', height=6, aspect=1, palette='YlOrRd')\n",
    "plt.show()"
   ]
  },
  {
   "cell_type": "code",
   "execution_count": null,
   "id": "46c260a9",
   "metadata": {},
   "outputs": [],
   "source": [
    "# categories"
   ]
  },
  {
   "cell_type": "code",
   "execution_count": null,
   "id": "8dcfcc06",
   "metadata": {},
   "outputs": [],
   "source": [
    "# drop rows with missing values in main category (cat_1)\n",
    "df.dropna(subset = ['cat_1'], inplace=True)"
   ]
  },
  {
   "cell_type": "code",
   "execution_count": null,
   "id": "e58d15da",
   "metadata": {},
   "outputs": [],
   "source": [
    "df.info()"
   ]
  },
  {
   "cell_type": "code",
   "execution_count": null,
   "id": "8a5aaeb3",
   "metadata": {},
   "outputs": [],
   "source": [
    "# top 20 values in main category\n",
    "df['cat_1'].value_counts()[:20]"
   ]
  },
  {
   "cell_type": "code",
   "execution_count": null,
   "id": "9c8b8545",
   "metadata": {},
   "outputs": [],
   "source": [
    "df['cat_1'].value_counts()[:20].plot(figsize=(8,6), kind='bar')\n",
    "plt.show()"
   ]
  },
  {
   "cell_type": "code",
   "execution_count": null,
   "id": "06646d05",
   "metadata": {},
   "outputs": [],
   "source": [
    "sorted(df['cat_1'].unique())"
   ]
  },
  {
   "cell_type": "code",
   "execution_count": null,
   "id": "0728cca8",
   "metadata": {},
   "outputs": [],
   "source": [
    "# compile list of non-food related categories\n",
    "non_food = ['Accessories', 'Antiques', 'Arcades', 'Art Galleries', 'Arts & Crafts',\n",
    "            'Arts & Entertainment', 'B&Bs', 'Bikes', 'Boating', 'Bookshops', \n",
    "            'Bowling', 'Bridal', 'Cabarets', 'Camping & Campsites', 'Casinos',\n",
    "            'Cinemas','Camping & Campsites', 'Christmas Trees', 'Comedy Clubs', \n",
    "            'Corner Shops', 'Crazy Golf', 'Cultural Centres', 'Dance Schools',\n",
    "            'DJs', 'Estate Agents', 'Fashion', 'Flowers & Gifts', 'Gas Stations',\n",
    "            'Gardening Centres', 'Gift Shops', 'Golf', 'Guest Houses', \n",
    "            'Hairdressers', 'Hotels', 'Hotel & Travel', 'Internet Cafes',\n",
    "            'Kitchen & Bath', 'Language Schools', 'Laundry Services', \n",
    "            'Landmarks & Historic Buildings', 'Men\\'s Clothing', 'MOT Test Centres',\n",
    "            'Museums', 'Music Venues', 'Nail Salons', 'Off Licence', 'Organic Shops', \n",
    "            'Parking', 'Pet Shops', 'Pet Groomers', 'Pet Sitting', 'Pool & Billiards',\n",
    "            'Pool & Snooker Hall', 'Post Offices', 'Shared Office Spaces',\n",
    "            'Shoe Shops', 'Social Clubs', 'Souvenir Shops', 'Sports Clubs', \n",
    "            'Stables & Horse Riding ', 'Supermarkets', 'Sweet Shops', \n",
    "            'Swimming Pools', 'Tabletop Games', 'Taxi & Minicabs', 'Theatres', \n",
    "            'Toy Shops', 'Used Bookstores', 'Venues & Event Spaces',\n",
    "            'Vintage & Second Hand', 'Vinyl Records', 'Wedding Planners', \n",
    "            'Women\\'s Clothing', 'Zoos']"
   ]
  },
  {
   "cell_type": "code",
   "execution_count": null,
   "id": "9c487aec",
   "metadata": {},
   "outputs": [],
   "source": [
    "df[df['cat_1']=='Taxi & Minicabs']"
   ]
  },
  {
   "cell_type": "code",
   "execution_count": null,
   "id": "ff6e9ef1",
   "metadata": {},
   "outputs": [],
   "source": [
    "# businesses with non-food related main category\n",
    "df[df['cat_1'].isin(non_food)]"
   ]
  },
  {
   "cell_type": "code",
   "execution_count": null,
   "id": "04be84db",
   "metadata": {},
   "outputs": [],
   "source": [
    "# top 20 values in secondary category\n",
    "df['cat_2'].value_counts()[:20]"
   ]
  },
  {
   "cell_type": "code",
   "execution_count": null,
   "id": "bd2d7633",
   "metadata": {},
   "outputs": [],
   "source": [
    "df['cat_2'].unique()"
   ]
  },
  {
   "cell_type": "code",
   "execution_count": null,
   "id": "ce098829",
   "metadata": {},
   "outputs": [],
   "source": [
    "# remove rows with non-food related main category (cat_1)\n",
    "df = df[~df['cat_1'].isin(non_food)]"
   ]
  },
  {
   "cell_type": "code",
   "execution_count": null,
   "id": "ad94c6cc",
   "metadata": {},
   "outputs": [],
   "source": [
    "df.info()"
   ]
  },
  {
   "cell_type": "code",
   "execution_count": null,
   "id": "d9a729f6",
   "metadata": {},
   "outputs": [],
   "source": [
    "# Yelp rating\n",
    "df['rating'].value_counts()"
   ]
  },
  {
   "cell_type": "code",
   "execution_count": null,
   "id": "24547c2c",
   "metadata": {},
   "outputs": [],
   "source": [
    "# Yelp rating\n",
    "df['rating'].value_counts(normalize=True)"
   ]
  },
  {
   "cell_type": "code",
   "execution_count": null,
   "id": "46e0b4ec",
   "metadata": {},
   "outputs": [],
   "source": [
    "# descriptive statistics for Yelp rating variable\n",
    "df['rating'].describe()"
   ]
  },
  {
   "cell_type": "code",
   "execution_count": null,
   "id": "e4e0352a",
   "metadata": {},
   "outputs": [],
   "source": [
    "# distribution of Yelp ratings\n",
    "fig, ax = plt.subplots(figsize=(8, 6))\n",
    "sns.countplot(data=df, x='rating', palette='YlOrRd')\n",
    "ax.set_ylabel('Counts\\n', fontsize=12)\n",
    "ax.set_title('Yelp ratings distribution\\n', fontsize=14)\n",
    "plt.show()"
   ]
  },
  {
   "cell_type": "code",
   "execution_count": null,
   "id": "045b3753",
   "metadata": {},
   "outputs": [],
   "source": [
    "# distribution of Yelp ratings by chain vs non-chain\n",
    "fig, ax = plt.subplots(figsize=(8, 6))\n",
    "sns.countplot(data=df, x='rating', hue='is_chain', palette='YlOrRd')\n",
    "ax.set_ylabel('Counts\\n', fontsize=12)\n",
    "ax.set_title('Yelp ratings distribution by chain vs non-chain\\n', fontsize=14)\n",
    "plt.show()"
   ]
  },
  {
   "cell_type": "code",
   "execution_count": null,
   "id": "293c166c",
   "metadata": {},
   "outputs": [],
   "source": [
    "# price level\n",
    "df['price'].value_counts()"
   ]
  },
  {
   "cell_type": "code",
   "execution_count": null,
   "id": "2aa85188",
   "metadata": {},
   "outputs": [],
   "source": [
    "# distribution of price levels\n",
    "fig, ax = plt.subplots(figsize=(8, 6))\n",
    "sns.countplot(data=df, x='price', order=['£', '££', '£££', '££££'], palette='YlOrRd')\n",
    "ax.set_ylabel('Counts\\n', fontsize=12)\n",
    "ax.set_title('Price levels distribution\\n', fontsize=14)\n",
    "plt.show()"
   ]
  },
  {
   "cell_type": "code",
   "execution_count": null,
   "id": "b2f184f8",
   "metadata": {},
   "outputs": [],
   "source": [
    "# top 20 cities in data set\n",
    "df['city'].value_counts()[:20]"
   ]
  },
  {
   "cell_type": "code",
   "execution_count": null,
   "id": "9e98e290",
   "metadata": {},
   "outputs": [],
   "source": [
    "df['city'].value_counts(normalize=True)"
   ]
  },
  {
   "cell_type": "code",
   "execution_count": null,
   "id": "884bdbcd",
   "metadata": {},
   "outputs": [],
   "source": [
    "# top 15 cities in data set\n",
    "fig, ax = plt.subplots(figsize=(8, 6))\n",
    "df['city'].value_counts()[:15].plot(kind='bar')\n",
    "ax.set_title('Top 15 locations by city\\n', fontsize=12)\n",
    "plt.show()\n"
   ]
  },
  {
   "cell_type": "code",
   "execution_count": null,
   "id": "f212321b",
   "metadata": {},
   "outputs": [],
   "source": [
    "df['city'].unique()"
   ]
  },
  {
   "cell_type": "code",
   "execution_count": null,
   "id": "574cffb1",
   "metadata": {},
   "outputs": [],
   "source": [
    "len(df['city'].unique())"
   ]
  },
  {
   "cell_type": "code",
   "execution_count": null,
   "id": "b448a75a",
   "metadata": {},
   "outputs": [],
   "source": [
    "sorted(df['city'].unique())"
   ]
  },
  {
   "cell_type": "code",
   "execution_count": null,
   "id": "ba4a5b39",
   "metadata": {},
   "outputs": [],
   "source": [
    "# clean city names to account for upper case/lower case spelling and hyphens\n",
    "df['city'] = df['city'].apply(lambda x: x.replace(\"-\", \" \").title())"
   ]
  },
  {
   "cell_type": "code",
   "execution_count": null,
   "id": "80dd31f2",
   "metadata": {},
   "outputs": [],
   "source": [
    "len(df['city'].unique())"
   ]
  },
  {
   "cell_type": "code",
   "execution_count": null,
   "id": "4648f18d",
   "metadata": {},
   "outputs": [],
   "source": [
    "# top 15 cities in data set (after cleaning)\n",
    "fig, ax = plt.subplots(figsize=(8, 6))\n",
    "df['city'].value_counts()[:15].plot(kind='bar')\n",
    "ax.set_title('Top 15 locations by city\\n', fontsize=12)\n",
    "plt.show()"
   ]
  },
  {
   "cell_type": "code",
   "execution_count": null,
   "id": "2c4aabbc",
   "metadata": {},
   "outputs": [],
   "source": [
    "sorted(df['city'].unique())"
   ]
  },
  {
   "cell_type": "code",
   "execution_count": null,
   "id": "f9ee1cc2",
   "metadata": {},
   "outputs": [],
   "source": [
    "# define function to extract postcode area from postcode\n",
    "def postcode_area(x):\n",
    "    if x[1].isnumeric():\n",
    "        return x[0]\n",
    "    else:\n",
    "        return x[:2]"
   ]
  },
  {
   "cell_type": "code",
   "execution_count": null,
   "id": "d4e88eab",
   "metadata": {},
   "outputs": [],
   "source": [
    "df['postc_area'] = df['zip_code'].apply(postcode_area)"
   ]
  },
  {
   "cell_type": "code",
   "execution_count": null,
   "id": "aa35960f",
   "metadata": {},
   "outputs": [],
   "source": [
    "df['postc_area'].nunique()"
   ]
  },
  {
   "cell_type": "code",
   "execution_count": null,
   "id": "3f940814",
   "metadata": {},
   "outputs": [],
   "source": [
    "df['postc_area'].unique()"
   ]
  },
  {
   "cell_type": "code",
   "execution_count": null,
   "id": "fc364040",
   "metadata": {},
   "outputs": [],
   "source": [
    "# top 15 locations in data set (by postcode area)\n",
    "fig, ax = plt.subplots(figsize=(8, 6))\n",
    "df['postc_area'].value_counts()[:15].plot(kind='bar')\n",
    "ax.set_title('Top 15 locations by postcode area\\n', fontsize=12)\n",
    "plt.show()\n"
   ]
  },
  {
   "cell_type": "code",
   "execution_count": null,
   "id": "a8321a08",
   "metadata": {},
   "outputs": [],
   "source": []
  },
  {
   "cell_type": "code",
   "execution_count": null,
   "id": "de7e5f1b",
   "metadata": {},
   "outputs": [],
   "source": [
    "# subset of numerical and binary variables\n",
    "subset = df[['RatingValue', 'Hygiene', 'Structural', 'ConfidenceInManagement', 'review_count', 'rating', 'is_chain']]"
   ]
  },
  {
   "cell_type": "code",
   "execution_count": null,
   "id": "79985840",
   "metadata": {
    "scrolled": false
   },
   "outputs": [],
   "source": [
    "# heatmap\n",
    "plt.figure(figsize=(10, 10))\n",
    "sns.heatmap(subset.corr(), annot=True)\n",
    "plt.show()"
   ]
  },
  {
   "cell_type": "markdown",
   "id": "9cf64b6c",
   "metadata": {},
   "source": [
    "Data Cleaning\n",
    "- 407 businesses did not have a numerical food hygiene rating but showed instead the status 'awaiting inspection', 'awaiting publication' or 'exempt'. These observations were removed from the data set.\n",
    "- The Food Hygiene Rating Scheme was launched in 2010. 16 businesses had a food hygiene rating date before 2010, these observations were removed from the data set.\n",
    "- The main category (cat_1) of 174 businesses was not related to food preparation (for examples zoos or swimming pools). These rows were dropped, as were 2 rows with missing values.   \n",
    "\n",
    "Feature Engineering\n",
    "\n",
    "- 49 restaurant chains were identified by reviewing the 250 most common business names in the data set. The binary feature 'is_chain' was created to flag whether a restaurant belonged to a chain or not. 12% of the businesses in the data set could be identified as part of a chain (most likely underestimating the true percentage due to limitations of the approach).\n",
    "\n",
    "- The postcode area ('postc_area') was extracted from the postcode as a proxy for a restaurant's location. \n",
    "\n",
    "\n"
   ]
  },
  {
   "cell_type": "code",
   "execution_count": null,
   "id": "40e3a97d",
   "metadata": {},
   "outputs": [],
   "source": [
    "# clean csv file for Tableau\n",
    "# df.to_csv('fsa_yelp_clean_tableau.csv', index=False)"
   ]
  },
  {
   "cell_type": "code",
   "execution_count": null,
   "id": "225a6e76",
   "metadata": {},
   "outputs": [],
   "source": []
  },
  {
   "cell_type": "code",
   "execution_count": null,
   "id": "1c3821c3",
   "metadata": {},
   "outputs": [],
   "source": []
  },
  {
   "cell_type": "markdown",
   "id": "c84df7b6",
   "metadata": {},
   "source": [
    "#### Classification Models"
   ]
  },
  {
   "cell_type": "code",
   "execution_count": null,
   "id": "cbce4409",
   "metadata": {},
   "outputs": [],
   "source": [
    "from sklearn import metrics\n",
    "from sklearn.preprocessing import StandardScaler, MinMaxScaler\n",
    "from sklearn.linear_model import LogisticRegression, LogisticRegressionCV\n",
    "from sklearn.model_selection import train_test_split, cross_val_score, GridSearchCV, StratifiedKFold\n",
    "from sklearn.metrics import classification_report, confusion_matrix\n",
    "from sklearn.metrics import roc_auc_score, average_precision_score, plot_roc_curve, plot_precision_recall_curve\n",
    "from sklearn.tree import DecisionTreeClassifier"
   ]
  },
  {
   "cell_type": "markdown",
   "id": "ff218623",
   "metadata": {},
   "source": [
    "#### A) Binary Classification"
   ]
  },
  {
   "cell_type": "code",
   "execution_count": null,
   "id": "118e767f",
   "metadata": {},
   "outputs": [],
   "source": [
    "# add column to indicate whether food hygiene rating is high (high=5, low=4 or less)\n",
    "df['fsa_high'] = df['RatingValue'].apply(lambda x: 1 if x==5 else 0)"
   ]
  },
  {
   "cell_type": "code",
   "execution_count": null,
   "id": "fd1c2f53",
   "metadata": {},
   "outputs": [],
   "source": [
    "# add column to indicate whether Yelp rating is high (high=4 and above)\n",
    "df['yelp_high'] = df['rating'].apply(lambda x: 1 if x>=4 else 0)"
   ]
  },
  {
   "cell_type": "code",
   "execution_count": null,
   "id": "05b21115",
   "metadata": {},
   "outputs": [],
   "source": [
    "df.head()"
   ]
  },
  {
   "cell_type": "code",
   "execution_count": null,
   "id": "0e6cff5d",
   "metadata": {},
   "outputs": [],
   "source": [
    "# create subset of data dropping missing values for price\n",
    "sub_price = df.dropna(subset = ['price'])"
   ]
  },
  {
   "cell_type": "code",
   "execution_count": null,
   "id": "ead7628f",
   "metadata": {},
   "outputs": [],
   "source": [
    "sub_price.info()"
   ]
  },
  {
   "cell_type": "code",
   "execution_count": null,
   "id": "b12c10d2",
   "metadata": {},
   "outputs": [],
   "source": []
  },
  {
   "cell_type": "markdown",
   "id": "dd34a6a7",
   "metadata": {},
   "source": [
    "#### Model 1: High vs low hygiene rating - logistic regression - full data set"
   ]
  },
  {
   "cell_type": "code",
   "execution_count": null,
   "id": "6acf0030",
   "metadata": {},
   "outputs": [],
   "source": [
    "# baseline accuracy\n",
    "df['fsa_high'].value_counts(normalize=True)"
   ]
  },
  {
   "cell_type": "code",
   "execution_count": null,
   "id": "56bd81a8",
   "metadata": {},
   "outputs": [],
   "source": [
    "# define target variable\n",
    "y = df['fsa_high']"
   ]
  },
  {
   "cell_type": "code",
   "execution_count": null,
   "id": "33a66076",
   "metadata": {},
   "outputs": [],
   "source": [
    "# define predictor variables\n",
    "X = df[['is_chain', 'postc_area', 'cat_1', 'review_count']]"
   ]
  },
  {
   "cell_type": "code",
   "execution_count": null,
   "id": "3380bf10",
   "metadata": {},
   "outputs": [],
   "source": [
    "# dummify predictor variables\n",
    "X_dum = pd.get_dummies(X, columns=['postc_area', 'cat_1'], drop_first=True)"
   ]
  },
  {
   "cell_type": "code",
   "execution_count": null,
   "id": "3549db1f",
   "metadata": {},
   "outputs": [],
   "source": [
    "X_dum.head()"
   ]
  },
  {
   "cell_type": "code",
   "execution_count": null,
   "id": "5d8af3e5",
   "metadata": {},
   "outputs": [],
   "source": [
    "# train-test split\n",
    "X_train, X_test, y_train, y_test = train_test_split(X_dum, y, stratify=y, test_size=0.2, random_state=1)"
   ]
  },
  {
   "cell_type": "code",
   "execution_count": null,
   "id": "db7c749b",
   "metadata": {},
   "outputs": [],
   "source": [
    "print(X_train.shape, y_train.shape)\n",
    "print(X_test.shape, y_test.shape)"
   ]
  },
  {
   "cell_type": "code",
   "execution_count": null,
   "id": "101d2edf",
   "metadata": {},
   "outputs": [],
   "source": [
    "# rescale features\n",
    "scaler = StandardScaler()\n",
    "\n",
    "X_train = pd.DataFrame(scaler.fit_transform(X_train), columns=X_train.columns)\n",
    "X_test = pd.DataFrame(scaler.transform(X_test), columns=X_test.columns)\n"
   ]
  },
  {
   "cell_type": "code",
   "execution_count": null,
   "id": "79b7a44b",
   "metadata": {},
   "outputs": [],
   "source": [
    "# create instance of logistic regression model\n",
    "logreg_1 = LogisticRegression(random_state=1)\n",
    "\n",
    "# check for parameters of the model\n",
    "list(logreg_1.get_params().keys())\n"
   ]
  },
  {
   "cell_type": "code",
   "execution_count": null,
   "id": "0ef56b2a",
   "metadata": {},
   "outputs": [],
   "source": [
    "# set up grid search \n",
    "\n",
    "params = {'C': np.logspace(-3, 3, 10),\n",
    "          'penalty': ['l1', 'l2'],\n",
    "          'solver': ['liblinear'],\n",
    "          'fit_intercept': [True, False]\n",
    "         }\n",
    "\n",
    "gs_logreg_1 = GridSearchCV(estimator=logreg_1,\n",
    "                         param_grid=params,\n",
    "                         cv=5,\n",
    "                         scoring='accuracy',\n",
    "                         return_train_score=True)\n"
   ]
  },
  {
   "cell_type": "code",
   "execution_count": null,
   "id": "a07822e5",
   "metadata": {},
   "outputs": [],
   "source": [
    "# fit the model and extract grid search results\n",
    "\n",
    "gs_logreg_1.fit(X_train, y_train)\n",
    "\n",
    "print('Best Parameters:')\n",
    "print(gs_logreg_1.best_params_)\n",
    "print('Best estimator C:')\n",
    "print(gs_logreg_1.best_estimator_.C)\n",
    "print('Best estimator mean cross validated training score:')\n",
    "print(gs_logreg_1.best_score_)\n",
    "print('Best estimator score on the full training set:')\n",
    "print(gs_logreg_1.score(X_train, y_train))\n",
    "print('Best estimator score on the test set:')\n",
    "print(gs_logreg_1.score(X_test, y_test))\n",
    "print('Best estimator coefficients:')\n",
    "print(gs_logreg_1.best_estimator_.coef_)\n"
   ]
  },
  {
   "cell_type": "code",
   "execution_count": null,
   "id": "8e3cccf0",
   "metadata": {},
   "outputs": [],
   "source": [
    "# get predictions\n",
    "predictions_train = gs_logreg_1.predict(X_train)\n",
    "predictions_test = gs_logreg_1.predict(X_test)"
   ]
  },
  {
   "cell_type": "code",
   "execution_count": null,
   "id": "ada5c241",
   "metadata": {},
   "outputs": [],
   "source": [
    "# confusion matrix for training set\n",
    "skplt.metrics.plot_confusion_matrix(y_train, predictions_train, labels=[1, 0], figsize=(6,6))\n",
    "plt.show()"
   ]
  },
  {
   "cell_type": "code",
   "execution_count": null,
   "id": "11043ee9",
   "metadata": {},
   "outputs": [],
   "source": [
    "# confusion matrix for test set\n",
    "skplt.metrics.plot_confusion_matrix(y_test, predictions_test, labels=[1, 0], figsize=(6, 6))\n",
    "plt.show()"
   ]
  },
  {
   "cell_type": "code",
   "execution_count": null,
   "id": "3005110e",
   "metadata": {},
   "outputs": [],
   "source": [
    "# classification report for training set\n",
    "print(classification_report(y_train, predictions_train))"
   ]
  },
  {
   "cell_type": "code",
   "execution_count": null,
   "id": "b99ad778",
   "metadata": {},
   "outputs": [],
   "source": [
    "# classification report for test set\n",
    "print(classification_report(y_test, predictions_test))"
   ]
  },
  {
   "cell_type": "code",
   "execution_count": null,
   "id": "65b42988",
   "metadata": {},
   "outputs": [],
   "source": []
  },
  {
   "cell_type": "markdown",
   "id": "174488cb",
   "metadata": {},
   "source": [
    "#### Model 2: High vs low hygiene rating - logistic regression - subset (including price)"
   ]
  },
  {
   "cell_type": "code",
   "execution_count": null,
   "id": "4f73da7e",
   "metadata": {},
   "outputs": [],
   "source": [
    "# baseline accuracy\n",
    "sub_price['fsa_high'].value_counts(normalize=True)"
   ]
  },
  {
   "cell_type": "code",
   "execution_count": null,
   "id": "d14da860",
   "metadata": {},
   "outputs": [],
   "source": [
    "# define target variable\n",
    "y = sub_price['fsa_high']"
   ]
  },
  {
   "cell_type": "code",
   "execution_count": null,
   "id": "c3abba18",
   "metadata": {},
   "outputs": [],
   "source": [
    "# define predictor variables\n",
    "X = sub_price[['is_chain', 'postc_area', 'cat_1', 'review_count', 'price']]"
   ]
  },
  {
   "cell_type": "code",
   "execution_count": null,
   "id": "c6bbaabb",
   "metadata": {},
   "outputs": [],
   "source": [
    "# dummify predictor variables\n",
    "X_dum = pd.get_dummies(X, columns=['postc_area', 'cat_1', 'price'], drop_first=True)"
   ]
  },
  {
   "cell_type": "code",
   "execution_count": null,
   "id": "69897bcd",
   "metadata": {},
   "outputs": [],
   "source": [
    "X_dum.head()"
   ]
  },
  {
   "cell_type": "code",
   "execution_count": null,
   "id": "ca7189d8",
   "metadata": {},
   "outputs": [],
   "source": [
    "# train-test split\n",
    "X_train, X_test, y_train, y_test = train_test_split(X_dum, y, stratify=y, test_size=0.2, random_state=1)"
   ]
  },
  {
   "cell_type": "code",
   "execution_count": null,
   "id": "7c67cb49",
   "metadata": {},
   "outputs": [],
   "source": [
    "print(X_train.shape, y_train.shape)\n",
    "print(X_test.shape, y_test.shape)"
   ]
  },
  {
   "cell_type": "code",
   "execution_count": null,
   "id": "65da22a7",
   "metadata": {},
   "outputs": [],
   "source": [
    "# rescale features\n",
    "scaler = StandardScaler()\n",
    "\n",
    "X_train = pd.DataFrame(scaler.fit_transform(X_train), columns=X_train.columns)\n",
    "X_test = pd.DataFrame(scaler.transform(X_test), columns=X_test.columns)\n"
   ]
  },
  {
   "cell_type": "code",
   "execution_count": null,
   "id": "d5c75c82",
   "metadata": {},
   "outputs": [],
   "source": [
    "# create instance of logistic regression model\n",
    "logreg_2 = LogisticRegression(random_state=1)\n",
    "\n",
    "# check for parameters of the model\n",
    "# list(logreg_2.get_params().keys())"
   ]
  },
  {
   "cell_type": "code",
   "execution_count": null,
   "id": "2fd83985",
   "metadata": {},
   "outputs": [],
   "source": [
    "# set up grid search \n",
    "\n",
    "params = {'C': np.logspace(-3, 3, 10),\n",
    "          'penalty': ['l1', 'l2'],\n",
    "          'solver': ['liblinear'],\n",
    "          'fit_intercept': [True, False]\n",
    "         }\n",
    "\n",
    "gs_logreg_2 = GridSearchCV(estimator=logreg_2,\n",
    "                         param_grid=params,\n",
    "                         cv=5,\n",
    "                         scoring='accuracy',\n",
    "                         return_train_score=True)\n"
   ]
  },
  {
   "cell_type": "code",
   "execution_count": null,
   "id": "c726e31d",
   "metadata": {},
   "outputs": [],
   "source": [
    "# fit the model and extract grid search results\n",
    "\n",
    "gs_logreg_2.fit(X_train, y_train)\n",
    "\n",
    "print('Best Parameters:')\n",
    "print(gs_logreg_2.best_params_)\n",
    "print('Best estimator C:')\n",
    "print(gs_logreg_2.best_estimator_.C)\n",
    "print('Best estimator mean cross validated training score:')\n",
    "print(gs_logreg_2.best_score_)\n",
    "print('Best estimator score on the full training set:')\n",
    "print(gs_logreg_2.score(X_train, y_train))\n",
    "print('Best estimator score on the test set:')\n",
    "print(gs_logreg_2.score(X_test, y_test))\n",
    "print('Best estimator coefficients:')\n",
    "print(gs_logreg_2.best_estimator_.coef_)\n"
   ]
  },
  {
   "cell_type": "code",
   "execution_count": null,
   "id": "76d1cc44",
   "metadata": {},
   "outputs": [],
   "source": [
    "# get predictions\n",
    "predictions_train = gs_logreg_2.predict(X_train)\n",
    "predictions_test = gs_logreg_2.predict(X_test)"
   ]
  },
  {
   "cell_type": "code",
   "execution_count": null,
   "id": "0802f695",
   "metadata": {},
   "outputs": [],
   "source": [
    "# confusion matrix for training set\n",
    "skplt.metrics.plot_confusion_matrix(y_train, predictions_train, labels=[1, 0], figsize=(6,6))\n",
    "plt.show()"
   ]
  },
  {
   "cell_type": "code",
   "execution_count": null,
   "id": "1929235e",
   "metadata": {},
   "outputs": [],
   "source": [
    "# confusion matrix for test set\n",
    "skplt.metrics.plot_confusion_matrix(y_test, predictions_test, labels=[1, 0], figsize=(6, 6))\n",
    "plt.show()"
   ]
  },
  {
   "cell_type": "code",
   "execution_count": null,
   "id": "8c06f9dd",
   "metadata": {},
   "outputs": [],
   "source": [
    "# classification report for training set\n",
    "print(classification_report(y_train, predictions_train))"
   ]
  },
  {
   "cell_type": "code",
   "execution_count": null,
   "id": "dea05824",
   "metadata": {},
   "outputs": [],
   "source": [
    "# classification report for test set\n",
    "print(classification_report(y_test, predictions_test))"
   ]
  },
  {
   "cell_type": "code",
   "execution_count": null,
   "id": "fd6f347d",
   "metadata": {},
   "outputs": [],
   "source": []
  },
  {
   "cell_type": "markdown",
   "id": "41c23f84",
   "metadata": {},
   "source": [
    "#### Model 3: High vs low hygiene rating - decision tree - full data set"
   ]
  },
  {
   "cell_type": "code",
   "execution_count": null,
   "id": "872e6c00",
   "metadata": {},
   "outputs": [],
   "source": [
    "# baseline accuracy\n",
    "df['fsa_high'].value_counts(normalize=True)"
   ]
  },
  {
   "cell_type": "code",
   "execution_count": null,
   "id": "bbc469ab",
   "metadata": {},
   "outputs": [],
   "source": [
    "# define target variable\n",
    "y = df['fsa_high']"
   ]
  },
  {
   "cell_type": "code",
   "execution_count": null,
   "id": "9f4e9cbc",
   "metadata": {},
   "outputs": [],
   "source": [
    "# define predictor variables\n",
    "X = df[['is_chain', 'postc_area', 'cat_1', 'review_count']]"
   ]
  },
  {
   "cell_type": "code",
   "execution_count": null,
   "id": "d12a4eaf",
   "metadata": {},
   "outputs": [],
   "source": [
    "# dummify predictor variables\n",
    "X_dum = pd.get_dummies(X, columns=['postc_area', 'cat_1'], drop_first=True)"
   ]
  },
  {
   "cell_type": "code",
   "execution_count": null,
   "id": "b54f3410",
   "metadata": {},
   "outputs": [],
   "source": [
    "X_dum.head()"
   ]
  },
  {
   "cell_type": "code",
   "execution_count": null,
   "id": "96ebeb36",
   "metadata": {},
   "outputs": [],
   "source": [
    "# train-test split\n",
    "X_train, X_test, y_train, y_test = train_test_split(X_dum, y, stratify=y, test_size=0.2, random_state=1)"
   ]
  },
  {
   "cell_type": "code",
   "execution_count": null,
   "id": "042b726b",
   "metadata": {},
   "outputs": [],
   "source": [
    "print(X_train.shape, y_train.shape)\n",
    "print(X_test.shape, y_test.shape)"
   ]
  },
  {
   "cell_type": "code",
   "execution_count": null,
   "id": "cf96316c",
   "metadata": {},
   "outputs": [],
   "source": [
    "# rescale features\n",
    "scaler = StandardScaler()\n",
    "\n",
    "X_train = pd.DataFrame(scaler.fit_transform(X_train), columns=X_train.columns)\n",
    "X_test = pd.DataFrame(scaler.transform(X_test), columns=X_test.columns)\n"
   ]
  },
  {
   "cell_type": "code",
   "execution_count": null,
   "id": "11bfaffa",
   "metadata": {},
   "outputs": [],
   "source": [
    "# create instance of Decision Tree Classifier model\n",
    "dtc_3 = DecisionTreeClassifier(random_state=1)\n",
    "\n",
    "# check for parameters of the model\n",
    "list(dtc_3.get_params().keys())\n"
   ]
  },
  {
   "cell_type": "code",
   "execution_count": null,
   "id": "9372effb",
   "metadata": {},
   "outputs": [],
   "source": [
    "# set up grid search\n",
    "params_dtc = {'criterion': ['gini', 'entropy'], \n",
    "              'max_depth': list(range(1,30)),\n",
    "              'max_features': [0.5, 0.6, 0.7, 0.8, 0.9, 1.0]}\n",
    "\n",
    "gs_dtc_3 = GridSearchCV(estimator=dtc_3,\n",
    "                      param_grid=params_dtc,\n",
    "                      cv=5,\n",
    "                      verbose=1,\n",
    "                      return_train_score=True)"
   ]
  },
  {
   "cell_type": "code",
   "execution_count": null,
   "id": "3239fb07",
   "metadata": {},
   "outputs": [],
   "source": [
    "# fit the model and extract grid search results\n",
    "\n",
    "gs_dtc_3.fit(X_train, y_train)\n",
    "\n",
    "print('Best Parameters:')\n",
    "print(gs_dtc_3.best_params_)\n",
    "print('Best estimator mean cross validated training score:')\n",
    "print(gs_dtc_3.best_score_)\n",
    "print('Best estimator score on the full training set:')\n",
    "print(gs_dtc_3.score(X_train, y_train))\n",
    "print('Best estimator score on the test set:')\n",
    "print(gs_dtc_3.score(X_test, y_test))"
   ]
  },
  {
   "cell_type": "code",
   "execution_count": null,
   "id": "c49a8164",
   "metadata": {},
   "outputs": [],
   "source": [
    "# get predictions\n",
    "predictions_train = gs_dtc_3.predict(X_train)\n",
    "predictions_test = gs_dtc_3.predict(X_test)"
   ]
  },
  {
   "cell_type": "code",
   "execution_count": null,
   "id": "54682165",
   "metadata": {},
   "outputs": [],
   "source": [
    "# confusion matrix for training set\n",
    "skplt.metrics.plot_confusion_matrix(y_train, predictions_train, labels=[1, 0], figsize=(6,6))\n",
    "plt.show()"
   ]
  },
  {
   "cell_type": "code",
   "execution_count": null,
   "id": "0850422b",
   "metadata": {},
   "outputs": [],
   "source": [
    "# confusion matrix for test set\n",
    "skplt.metrics.plot_confusion_matrix(y_test, predictions_test, labels=[1, 0], figsize=(6, 6))\n",
    "plt.show()"
   ]
  },
  {
   "cell_type": "code",
   "execution_count": null,
   "id": "c76c4354",
   "metadata": {},
   "outputs": [],
   "source": [
    "# classification report for training set\n",
    "print(classification_report(y_train, predictions_train))"
   ]
  },
  {
   "cell_type": "code",
   "execution_count": null,
   "id": "07a7d453",
   "metadata": {},
   "outputs": [],
   "source": [
    "# classification report for test set\n",
    "print(classification_report(y_test, predictions_test))"
   ]
  },
  {
   "cell_type": "code",
   "execution_count": null,
   "id": "ee1a3315",
   "metadata": {},
   "outputs": [],
   "source": [
    "dtc_best = gs_dtc_3.best_estimator_"
   ]
  },
  {
   "cell_type": "code",
   "execution_count": null,
   "id": "d2a58e81",
   "metadata": {},
   "outputs": [],
   "source": [
    "# feature importance\n",
    "feat_imp = pd.DataFrame({'feature': X_train.columns, 'importance': dtc_best.feature_importances_})\n",
    "\n",
    "feat_imp.sort_values('importance', ascending=False, inplace=True)\n",
    "feat_imp"
   ]
  },
  {
   "cell_type": "code",
   "execution_count": null,
   "id": "23e5a6ac",
   "metadata": {},
   "outputs": [],
   "source": [
    "# plot of top 15 features\n",
    "fig, ax = plt.subplots(figsize=(12, 10))\n",
    "ax = sns.barplot(x='importance', y='feature', data=feat_imp[:15], palette='YlOrRd_r')\n",
    "plt.show()"
   ]
  },
  {
   "cell_type": "code",
   "execution_count": null,
   "id": "8156f87f",
   "metadata": {},
   "outputs": [],
   "source": []
  },
  {
   "cell_type": "markdown",
   "id": "d6143bf6",
   "metadata": {},
   "source": [
    "#### Model 4: High vs low hygiene rating - decision tree - subset (including price)"
   ]
  },
  {
   "cell_type": "code",
   "execution_count": null,
   "id": "8e14343b",
   "metadata": {},
   "outputs": [],
   "source": [
    "# baseline accuracy\n",
    "sub_price['fsa_high'].value_counts(normalize=True)"
   ]
  },
  {
   "cell_type": "code",
   "execution_count": null,
   "id": "0765854a",
   "metadata": {},
   "outputs": [],
   "source": [
    "# define target variable\n",
    "y = sub_price['fsa_high']"
   ]
  },
  {
   "cell_type": "code",
   "execution_count": null,
   "id": "85ef6978",
   "metadata": {},
   "outputs": [],
   "source": [
    "# define predictor variables\n",
    "X = sub_price[['is_chain', 'postc_area', 'cat_1', 'review_count', 'price']]"
   ]
  },
  {
   "cell_type": "code",
   "execution_count": null,
   "id": "450af3e0",
   "metadata": {},
   "outputs": [],
   "source": [
    "# dummify predictor variables\n",
    "X_dum = pd.get_dummies(X, columns=['postc_area', 'cat_1', 'price'], drop_first=True)"
   ]
  },
  {
   "cell_type": "code",
   "execution_count": null,
   "id": "ace2f48d",
   "metadata": {},
   "outputs": [],
   "source": [
    "X_dum.head()"
   ]
  },
  {
   "cell_type": "code",
   "execution_count": null,
   "id": "b9e904c5",
   "metadata": {},
   "outputs": [],
   "source": [
    "# train-test split\n",
    "X_train, X_test, y_train, y_test = train_test_split(X_dum, y, stratify=y, test_size=0.2, random_state=1)"
   ]
  },
  {
   "cell_type": "code",
   "execution_count": null,
   "id": "f6c9bdc6",
   "metadata": {},
   "outputs": [],
   "source": [
    "print(X_train.shape, y_train.shape)\n",
    "print(X_test.shape, y_test.shape)"
   ]
  },
  {
   "cell_type": "code",
   "execution_count": null,
   "id": "f033706c",
   "metadata": {},
   "outputs": [],
   "source": [
    "# rescale features\n",
    "scaler = StandardScaler()\n",
    "\n",
    "X_train = pd.DataFrame(scaler.fit_transform(X_train), columns=X_train.columns)\n",
    "X_test = pd.DataFrame(scaler.transform(X_test), columns=X_test.columns)\n"
   ]
  },
  {
   "cell_type": "code",
   "execution_count": null,
   "id": "70ff8330",
   "metadata": {},
   "outputs": [],
   "source": [
    "# create instance of Decision Tree Classifier model\n",
    "dtc_4 = DecisionTreeClassifier(random_state=1)\n",
    "\n",
    "# check for parameters of the model\n",
    "# list(dtc_4.get_params().keys())\n"
   ]
  },
  {
   "cell_type": "code",
   "execution_count": null,
   "id": "4d0680ed",
   "metadata": {},
   "outputs": [],
   "source": [
    "# set up grid search\n",
    "params_dtc = {'criterion': ['gini', 'entropy'], \n",
    "              'max_depth': list(range(1,30)),\n",
    "              'max_features': [0.5, 0.6, 0.7, 0.8, 0.9, 1.0]}\n",
    "\n",
    "gs_dtc_4 = GridSearchCV(estimator=dtc_4,\n",
    "                      param_grid=params_dtc,\n",
    "                      cv=5,\n",
    "                      verbose=1,\n",
    "                      return_train_score=True)"
   ]
  },
  {
   "cell_type": "code",
   "execution_count": null,
   "id": "a53e0ee8",
   "metadata": {},
   "outputs": [],
   "source": [
    "# fit the model and extract grid search results\n",
    "\n",
    "gs_dtc_4.fit(X_train, y_train)\n",
    "\n",
    "print('Best Parameters:')\n",
    "print(gs_dtc_4.best_params_)\n",
    "print('Best estimator mean cross validated training score:')\n",
    "print(gs_dtc_4.best_score_)\n",
    "print('Best estimator score on the full training set:')\n",
    "print(gs_dtc_4.score(X_train, y_train))\n",
    "print('Best estimator score on the test set:')\n",
    "print(gs_dtc_4.score(X_test, y_test))"
   ]
  },
  {
   "cell_type": "code",
   "execution_count": null,
   "id": "273a74d9",
   "metadata": {},
   "outputs": [],
   "source": [
    "# get predictions\n",
    "predictions_train = gs_dtc_4.predict(X_train)\n",
    "predictions_test = gs_dtc_4.predict(X_test)"
   ]
  },
  {
   "cell_type": "code",
   "execution_count": null,
   "id": "7286e828",
   "metadata": {},
   "outputs": [],
   "source": [
    "# confusion matrix for training set\n",
    "skplt.metrics.plot_confusion_matrix(y_train, predictions_train, labels=[1, 0], figsize=(6,6))\n",
    "plt.show()"
   ]
  },
  {
   "cell_type": "code",
   "execution_count": null,
   "id": "272d5612",
   "metadata": {},
   "outputs": [],
   "source": [
    "# confusion matrix for test set\n",
    "skplt.metrics.plot_confusion_matrix(y_test, predictions_test, labels=[1, 0], figsize=(6, 6))\n",
    "plt.show()"
   ]
  },
  {
   "cell_type": "code",
   "execution_count": null,
   "id": "6dcf70e8",
   "metadata": {},
   "outputs": [],
   "source": [
    "# classification report for training set\n",
    "print(classification_report(y_train, predictions_train))"
   ]
  },
  {
   "cell_type": "code",
   "execution_count": null,
   "id": "b39d2836",
   "metadata": {},
   "outputs": [],
   "source": [
    "# classification report for test set\n",
    "print(classification_report(y_test, predictions_test))"
   ]
  },
  {
   "cell_type": "code",
   "execution_count": null,
   "id": "5b95d03f",
   "metadata": {},
   "outputs": [],
   "source": []
  },
  {
   "cell_type": "code",
   "execution_count": null,
   "id": "bfedde1c",
   "metadata": {},
   "outputs": [],
   "source": []
  },
  {
   "cell_type": "markdown",
   "id": "8e940f42",
   "metadata": {},
   "source": [
    "#### Model 5: High vs low Yelp rating - logistic regression - full data set"
   ]
  },
  {
   "cell_type": "code",
   "execution_count": null,
   "id": "94eb19ce",
   "metadata": {},
   "outputs": [],
   "source": [
    "# baseline accuracy\n",
    "df['yelp_high'].value_counts(normalize=True)"
   ]
  },
  {
   "cell_type": "code",
   "execution_count": null,
   "id": "b04dbc38",
   "metadata": {},
   "outputs": [],
   "source": [
    "# define target variable\n",
    "y = df['yelp_high']"
   ]
  },
  {
   "cell_type": "code",
   "execution_count": null,
   "id": "0d403cf1",
   "metadata": {},
   "outputs": [],
   "source": [
    "# define predictor variables\n",
    "X = df[['is_chain', 'postc_area', 'cat_1', 'RatingValue', 'review_count']]"
   ]
  },
  {
   "cell_type": "code",
   "execution_count": null,
   "id": "9801b0da",
   "metadata": {},
   "outputs": [],
   "source": [
    "# dummify predictor variables\n",
    "X_dum = pd.get_dummies(X, columns=['postc_area', 'cat_1', 'RatingValue'], drop_first=True)"
   ]
  },
  {
   "cell_type": "code",
   "execution_count": null,
   "id": "4bb7a614",
   "metadata": {},
   "outputs": [],
   "source": [
    "X_dum.head()"
   ]
  },
  {
   "cell_type": "code",
   "execution_count": null,
   "id": "a29c04c5",
   "metadata": {},
   "outputs": [],
   "source": [
    "# train-test split\n",
    "X_train, X_test, y_train, y_test = train_test_split(X_dum, y, stratify=y, test_size=0.2, random_state=1)"
   ]
  },
  {
   "cell_type": "code",
   "execution_count": null,
   "id": "135a0928",
   "metadata": {},
   "outputs": [],
   "source": [
    "print(X_train.shape, y_train.shape)\n",
    "print(X_test.shape, y_test.shape)"
   ]
  },
  {
   "cell_type": "code",
   "execution_count": null,
   "id": "5ee71b24",
   "metadata": {},
   "outputs": [],
   "source": [
    "# rescale features\n",
    "scaler = StandardScaler()\n",
    "\n",
    "X_train = pd.DataFrame(scaler.fit_transform(X_train), columns=X_train.columns)\n",
    "X_test = pd.DataFrame(scaler.transform(X_test), columns=X_test.columns)\n"
   ]
  },
  {
   "cell_type": "code",
   "execution_count": null,
   "id": "43aeac4f",
   "metadata": {},
   "outputs": [],
   "source": [
    "# create instance of logistic regression model\n",
    "logreg_5 = LogisticRegression(random_state=1)\n",
    "\n",
    "# check for parameters of the model\n",
    "# list(logreg_5.get_params().keys())\n"
   ]
  },
  {
   "cell_type": "code",
   "execution_count": null,
   "id": "565ca9fc",
   "metadata": {},
   "outputs": [],
   "source": [
    "# set up grid search \n",
    "\n",
    "params = {'C': np.logspace(-3, 3, 10),\n",
    "          'penalty': ['l1', 'l2'],\n",
    "          'solver': ['liblinear'],\n",
    "          'fit_intercept': [True, False]\n",
    "         }\n",
    "\n",
    "gs_logreg_5 = GridSearchCV(estimator=logreg_5,\n",
    "                         param_grid=params,\n",
    "                         cv=5,\n",
    "                         scoring='accuracy',\n",
    "                         return_train_score=True)"
   ]
  },
  {
   "cell_type": "code",
   "execution_count": null,
   "id": "81639beb",
   "metadata": {},
   "outputs": [],
   "source": [
    "# fit the model and extract grid search results\n",
    "\n",
    "gs_logreg_5.fit(X_train, y_train)\n",
    "\n",
    "print('Best Parameters:')\n",
    "print(gs_logreg_5.best_params_)\n",
    "print('Best estimator C:')\n",
    "print(gs_logreg_5.best_estimator_.C)\n",
    "print('Best estimator mean cross validated training score:')\n",
    "print(gs_logreg_5.best_score_)\n",
    "print('Best estimator score on the full training set:')\n",
    "print(gs_logreg_5.score(X_train, y_train))\n",
    "print('Best estimator score on the test set:')\n",
    "print(gs_logreg_5.score(X_test, y_test))\n",
    "print('Best estimator coefficients:')\n",
    "print(gs_logreg_5.best_estimator_.coef_)\n"
   ]
  },
  {
   "cell_type": "code",
   "execution_count": null,
   "id": "bab25fdc",
   "metadata": {},
   "outputs": [],
   "source": [
    "# get predictions\n",
    "predictions_train = gs_logreg_5.predict(X_train)\n",
    "predictions_test = gs_logreg_5.predict(X_test)"
   ]
  },
  {
   "cell_type": "code",
   "execution_count": null,
   "id": "d47b1342",
   "metadata": {},
   "outputs": [],
   "source": [
    "# confusion matrix for training set\n",
    "skplt.metrics.plot_confusion_matrix(y_train, predictions_train, labels=[1, 0], figsize=(6,6))\n",
    "plt.show()"
   ]
  },
  {
   "cell_type": "code",
   "execution_count": null,
   "id": "03daeaa3",
   "metadata": {},
   "outputs": [],
   "source": [
    "# confusion matrix for test set\n",
    "skplt.metrics.plot_confusion_matrix(y_test, predictions_test, labels=[1, 0], figsize=(6, 6))\n",
    "plt.show()"
   ]
  },
  {
   "cell_type": "code",
   "execution_count": null,
   "id": "0dda4c2f",
   "metadata": {},
   "outputs": [],
   "source": [
    "# classification report for training set\n",
    "print(classification_report(y_train, predictions_train))"
   ]
  },
  {
   "cell_type": "code",
   "execution_count": null,
   "id": "3b51c862",
   "metadata": {},
   "outputs": [],
   "source": [
    "# classification report for test set\n",
    "print(classification_report(y_test, predictions_test))"
   ]
  },
  {
   "cell_type": "code",
   "execution_count": null,
   "id": "244d847e",
   "metadata": {},
   "outputs": [],
   "source": []
  },
  {
   "cell_type": "markdown",
   "id": "963de534",
   "metadata": {},
   "source": [
    "#### Model 6: High vs low Yelp rating - logistic regression - subset (including price)"
   ]
  },
  {
   "cell_type": "markdown",
   "id": "b31541f7",
   "metadata": {},
   "source": [
    "(best model)"
   ]
  },
  {
   "cell_type": "code",
   "execution_count": null,
   "id": "f1b08e12",
   "metadata": {},
   "outputs": [],
   "source": [
    "# baseline accuracy\n",
    "sub_price['yelp_high'].value_counts(normalize=True)"
   ]
  },
  {
   "cell_type": "code",
   "execution_count": null,
   "id": "15f1209b",
   "metadata": {},
   "outputs": [],
   "source": [
    "# define target variable\n",
    "y = sub_price['yelp_high']"
   ]
  },
  {
   "cell_type": "code",
   "execution_count": null,
   "id": "eb221c12",
   "metadata": {},
   "outputs": [],
   "source": [
    "# define predictor variables\n",
    "X = sub_price[['is_chain', 'postc_area', 'cat_1', 'RatingValue', 'review_count', 'price']]"
   ]
  },
  {
   "cell_type": "code",
   "execution_count": null,
   "id": "4795c002",
   "metadata": {},
   "outputs": [],
   "source": [
    "# dummify predictor variables\n",
    "X_dum = pd.get_dummies(X, columns=['postc_area', 'cat_1', 'RatingValue', 'price'], drop_first=True)"
   ]
  },
  {
   "cell_type": "code",
   "execution_count": null,
   "id": "483dee43",
   "metadata": {},
   "outputs": [],
   "source": [
    "X_dum.head()"
   ]
  },
  {
   "cell_type": "code",
   "execution_count": null,
   "id": "d3c78357",
   "metadata": {},
   "outputs": [],
   "source": [
    "# train-test split\n",
    "X_train, X_test, y_train, y_test = train_test_split(X_dum, y, stratify=y, test_size=0.2, random_state=1)"
   ]
  },
  {
   "cell_type": "code",
   "execution_count": null,
   "id": "1b9e22f6",
   "metadata": {},
   "outputs": [],
   "source": [
    "print(X_train.shape, y_train.shape)\n",
    "print(X_test.shape, y_test.shape)"
   ]
  },
  {
   "cell_type": "code",
   "execution_count": null,
   "id": "512e3acc",
   "metadata": {},
   "outputs": [],
   "source": [
    "# rescale features\n",
    "scaler = StandardScaler()\n",
    "\n",
    "X_train = pd.DataFrame(scaler.fit_transform(X_train), columns=X_train.columns)\n",
    "X_test = pd.DataFrame(scaler.transform(X_test), columns=X_test.columns)\n"
   ]
  },
  {
   "cell_type": "code",
   "execution_count": null,
   "id": "bbda378c",
   "metadata": {},
   "outputs": [],
   "source": [
    "# create instance of logistic regression model\n",
    "logreg_6 = LogisticRegression(random_state=1)\n",
    "\n",
    "# check for parameters of the model\n",
    "# list(logreg_6.get_params().keys())\n"
   ]
  },
  {
   "cell_type": "code",
   "execution_count": null,
   "id": "88591313",
   "metadata": {},
   "outputs": [],
   "source": [
    "# set up grid search \n",
    "\n",
    "params = {'C': np.logspace(-3, 3, 10),\n",
    "          'penalty': ['l1', 'l2'],\n",
    "          'solver': ['liblinear'],\n",
    "          'fit_intercept': [True, False]\n",
    "         }\n",
    "\n",
    "gs_logreg_6 = GridSearchCV(estimator=logreg_6,\n",
    "                         param_grid=params,\n",
    "                         cv=5,\n",
    "                         scoring='accuracy',\n",
    "                         return_train_score=True)"
   ]
  },
  {
   "cell_type": "code",
   "execution_count": null,
   "id": "6a442507",
   "metadata": {},
   "outputs": [],
   "source": [
    "# fit the model and extract grid search results\n",
    "\n",
    "gs_logreg_6.fit(X_train, y_train)\n",
    "\n",
    "print('Best Parameters:')\n",
    "print(gs_logreg_6.best_params_)\n",
    "print('Best estimator C:')\n",
    "print(gs_logreg_6.best_estimator_.C)\n",
    "print('Best estimator mean cross validated training score:')\n",
    "print(gs_logreg_6.best_score_)\n",
    "print('Best estimator score on the full training set:')\n",
    "print(gs_logreg_6.score(X_train, y_train))\n",
    "print('Best estimator score on the test set:')\n",
    "print(gs_logreg_6.score(X_test, y_test))\n",
    "print('Best estimator coefficients:')\n",
    "print(gs_logreg_6.best_estimator_.coef_)"
   ]
  },
  {
   "cell_type": "code",
   "execution_count": null,
   "id": "97121043",
   "metadata": {},
   "outputs": [],
   "source": [
    "# get predictions\n",
    "predictions_train = gs_logreg_6.predict(X_train)\n",
    "predictions_test = gs_logreg_6.predict(X_test)"
   ]
  },
  {
   "cell_type": "code",
   "execution_count": null,
   "id": "99bba640",
   "metadata": {},
   "outputs": [],
   "source": [
    "# confusion matrix for training set\n",
    "skplt.metrics.plot_confusion_matrix(y_train, predictions_train, labels=[1, 0], figsize=(6,6))\n",
    "plt.show()"
   ]
  },
  {
   "cell_type": "code",
   "execution_count": null,
   "id": "e94ea916",
   "metadata": {},
   "outputs": [],
   "source": [
    "# confusion matrix for test set\n",
    "skplt.metrics.plot_confusion_matrix(y_test, predictions_test, labels=[1, 0], figsize=(6, 6))\n",
    "plt.show()"
   ]
  },
  {
   "cell_type": "code",
   "execution_count": null,
   "id": "7dd37bba",
   "metadata": {},
   "outputs": [],
   "source": [
    "# classification report for training set\n",
    "print(classification_report(y_train, predictions_train))"
   ]
  },
  {
   "cell_type": "code",
   "execution_count": null,
   "id": "8fdce91e",
   "metadata": {},
   "outputs": [],
   "source": [
    "# classification report for test set\n",
    "print(classification_report(y_test, predictions_test))"
   ]
  },
  {
   "cell_type": "code",
   "execution_count": null,
   "id": "a0cf0756",
   "metadata": {},
   "outputs": [],
   "source": [
    "probabilities_train = gs_logreg_6.predict_proba(X_train)\n",
    "probabilities_test = gs_logreg_6.predict_proba(X_test)"
   ]
  },
  {
   "cell_type": "code",
   "execution_count": null,
   "id": "4e9578e9",
   "metadata": {},
   "outputs": [],
   "source": [
    "# ROC curve for training set\n",
    "skplt.metrics.plot_roc(y_train, probabilities_train, figsize=(8,6))\n",
    "plt.show()"
   ]
  },
  {
   "cell_type": "code",
   "execution_count": null,
   "id": "6ff4862d",
   "metadata": {},
   "outputs": [],
   "source": [
    "# ROC curve for test set\n",
    "skplt.metrics.plot_roc(y_test, probabilities_test, figsize=(8,6))\n",
    "plt.show()"
   ]
  },
  {
   "cell_type": "code",
   "execution_count": null,
   "id": "9510cba9",
   "metadata": {},
   "outputs": [],
   "source": [
    "# Precision-recall curve for training set\n",
    "skplt.metrics.plot_precision_recall(y_train, probabilities_train, figsize=(8,6))\n",
    "plt.show()"
   ]
  },
  {
   "cell_type": "code",
   "execution_count": null,
   "id": "d341b133",
   "metadata": {},
   "outputs": [],
   "source": [
    "# Precision-recall curve for test set\n",
    "skplt.metrics.plot_precision_recall(y_test, probabilities_test, figsize=(8,6))\n",
    "plt.show()"
   ]
  },
  {
   "cell_type": "code",
   "execution_count": null,
   "id": "43c291ab",
   "metadata": {},
   "outputs": [],
   "source": [
    "# top 10 positive coefficients (increase in the probability of score being 'high')\n",
    "coefs_pos = pd.DataFrame(list(zip(X_train.columns, gs_logreg_6.best_estimator_.coef_[0])), \n",
    "                         columns=['feature', 'coef']).sort_values(by='coef', ascending=False)[:10] \n",
    "coefs_pos"
   ]
  },
  {
   "cell_type": "code",
   "execution_count": null,
   "id": "489dbd72",
   "metadata": {},
   "outputs": [],
   "source": [
    "# top 10 negative coefficients (decrease in the probability of score being 'high')\n",
    "coefs_neg = pd.DataFrame(list(zip(X_train.columns, gs_logreg_6.best_estimator_.coef_[0])), \n",
    "                         columns=['feature', 'coef']).sort_values(by='coef')[:10] \n",
    "coefs_neg"
   ]
  },
  {
   "cell_type": "code",
   "execution_count": null,
   "id": "c10f80db",
   "metadata": {},
   "outputs": [],
   "source": [
    "# combine highest and lowest coefficients in dataframe\n",
    "coefs_neg_sorted = coefs_neg.sort_values(by='coef', ascending=False)\n",
    "\n",
    "coefs_dfs = [coefs_pos, coefs_neg_sorted]\n",
    "coefs_combined = pd.concat(coefs_dfs)"
   ]
  },
  {
   "cell_type": "code",
   "execution_count": null,
   "id": "be9aa56d",
   "metadata": {},
   "outputs": [],
   "source": [
    "# plot of top positive and negative coefficients\n",
    "fig, ax = plt.subplots(figsize=(18, 16))\n",
    "ax = sns.barplot(x='coef', y='feature', data=coefs_combined, palette='YlOrRd_r')\n",
    "plt.show()"
   ]
  },
  {
   "cell_type": "code",
   "execution_count": null,
   "id": "a1facf59",
   "metadata": {},
   "outputs": [],
   "source": []
  },
  {
   "cell_type": "markdown",
   "id": "6b5d4da2",
   "metadata": {},
   "source": [
    "#### Model 7: High vs low Yelp rating - decision tree - full data set"
   ]
  },
  {
   "cell_type": "code",
   "execution_count": null,
   "id": "450f9b9d",
   "metadata": {},
   "outputs": [],
   "source": [
    "# baseline accuracy\n",
    "df['yelp_high'].value_counts(normalize=True)"
   ]
  },
  {
   "cell_type": "code",
   "execution_count": null,
   "id": "c811d183",
   "metadata": {},
   "outputs": [],
   "source": [
    "# define target variable\n",
    "y = df['yelp_high']"
   ]
  },
  {
   "cell_type": "code",
   "execution_count": null,
   "id": "2a053a1a",
   "metadata": {},
   "outputs": [],
   "source": [
    "# define predictor variables\n",
    "X = df[['is_chain', 'postc_area', 'cat_1', 'RatingValue', 'review_count']]"
   ]
  },
  {
   "cell_type": "code",
   "execution_count": null,
   "id": "e202ae95",
   "metadata": {},
   "outputs": [],
   "source": [
    "# dummify predictor variables\n",
    "X_dum = pd.get_dummies(X, columns=['postc_area', 'cat_1', 'RatingValue'], drop_first=True)"
   ]
  },
  {
   "cell_type": "code",
   "execution_count": null,
   "id": "0d2c8d57",
   "metadata": {},
   "outputs": [],
   "source": [
    "X_dum.head()"
   ]
  },
  {
   "cell_type": "code",
   "execution_count": null,
   "id": "b7543fe8",
   "metadata": {},
   "outputs": [],
   "source": [
    "# train-test split\n",
    "X_train, X_test, y_train, y_test = train_test_split(X_dum, y, stratify=y, test_size=0.2, random_state=1)"
   ]
  },
  {
   "cell_type": "code",
   "execution_count": null,
   "id": "cb23b3e2",
   "metadata": {},
   "outputs": [],
   "source": [
    "print(X_train.shape, y_train.shape)\n",
    "print(X_test.shape, y_test.shape)"
   ]
  },
  {
   "cell_type": "code",
   "execution_count": null,
   "id": "782c001e",
   "metadata": {},
   "outputs": [],
   "source": [
    "# rescale features\n",
    "scaler = StandardScaler()\n",
    "\n",
    "X_train = pd.DataFrame(scaler.fit_transform(X_train), columns=X_train.columns)\n",
    "X_test = pd.DataFrame(scaler.transform(X_test), columns=X_test.columns)\n"
   ]
  },
  {
   "cell_type": "code",
   "execution_count": null,
   "id": "3da434de",
   "metadata": {},
   "outputs": [],
   "source": [
    "# create instance of Decision Tree Classifier model\n",
    "dtc_7 = DecisionTreeClassifier(random_state=1)\n",
    "\n",
    "# check for parameters of the model\n",
    "# list(dtc_7.get_params().keys())\n"
   ]
  },
  {
   "cell_type": "code",
   "execution_count": null,
   "id": "7dec7240",
   "metadata": {},
   "outputs": [],
   "source": [
    "# set up grid search\n",
    "params_dtc = {'criterion': ['gini', 'entropy'], \n",
    "              'max_depth': list(range(1,30)),\n",
    "              'max_features': [0.5, 0.6, 0.7, 0.8, 0.9, 1.0]}\n",
    "\n",
    "gs_dtc_7 = GridSearchCV(estimator=dtc_7,\n",
    "                      param_grid=params_dtc,\n",
    "                      cv=5,\n",
    "                      verbose=1,\n",
    "                      return_train_score=True)"
   ]
  },
  {
   "cell_type": "code",
   "execution_count": null,
   "id": "a1dcf838",
   "metadata": {},
   "outputs": [],
   "source": [
    "# fit the model and extract grid search results\n",
    "\n",
    "gs_dtc_7.fit(X_train, y_train)\n",
    "\n",
    "print('Best Parameters:')\n",
    "print(gs_dtc_7.best_params_)\n",
    "print('Best estimator mean cross validated training score:')\n",
    "print(gs_dtc_7.best_score_)\n",
    "print('Best estimator score on the full training set:')\n",
    "print(gs_dtc_7.score(X_train, y_train))\n",
    "print('Best estimator score on the test set:')\n",
    "print(gs_dtc_7.score(X_test, y_test))"
   ]
  },
  {
   "cell_type": "code",
   "execution_count": null,
   "id": "a8ccf217",
   "metadata": {},
   "outputs": [],
   "source": [
    "# get predictions\n",
    "predictions_train = gs_dtc_7.predict(X_train)\n",
    "predictions_test = gs_dtc_7.predict(X_test)"
   ]
  },
  {
   "cell_type": "code",
   "execution_count": null,
   "id": "bd71962a",
   "metadata": {},
   "outputs": [],
   "source": [
    "# confusion matrix for training set\n",
    "skplt.metrics.plot_confusion_matrix(y_train, predictions_train, labels=[1, 0], figsize=(6,6))\n",
    "plt.show()"
   ]
  },
  {
   "cell_type": "code",
   "execution_count": null,
   "id": "87484988",
   "metadata": {},
   "outputs": [],
   "source": [
    "# confusion matrix for test set\n",
    "skplt.metrics.plot_confusion_matrix(y_test, predictions_test, labels=[1, 0], figsize=(6, 6))\n",
    "plt.show()"
   ]
  },
  {
   "cell_type": "code",
   "execution_count": null,
   "id": "437f7c31",
   "metadata": {},
   "outputs": [],
   "source": [
    "# classification report for training set\n",
    "print(classification_report(y_train, predictions_train))"
   ]
  },
  {
   "cell_type": "code",
   "execution_count": null,
   "id": "4008c32f",
   "metadata": {},
   "outputs": [],
   "source": [
    "# classification report for test set\n",
    "print(classification_report(y_test, predictions_test))"
   ]
  },
  {
   "cell_type": "code",
   "execution_count": null,
   "id": "5345b360",
   "metadata": {},
   "outputs": [],
   "source": []
  },
  {
   "cell_type": "markdown",
   "id": "8fcc0200",
   "metadata": {},
   "source": [
    "#### Model 8: High vs low Yelp rating - decision tree - subset (including price)"
   ]
  },
  {
   "cell_type": "code",
   "execution_count": null,
   "id": "767a8eb3",
   "metadata": {},
   "outputs": [],
   "source": [
    "# baseline accuracy\n",
    "sub_price['yelp_high'].value_counts(normalize=True)"
   ]
  },
  {
   "cell_type": "code",
   "execution_count": null,
   "id": "a3ba143c",
   "metadata": {},
   "outputs": [],
   "source": [
    "# define target variable\n",
    "y = sub_price['yelp_high']"
   ]
  },
  {
   "cell_type": "code",
   "execution_count": null,
   "id": "5d94633b",
   "metadata": {},
   "outputs": [],
   "source": [
    "# define predictor variables\n",
    "X = sub_price[['is_chain', 'postc_area', 'cat_1', 'RatingValue', 'review_count', 'price']]"
   ]
  },
  {
   "cell_type": "code",
   "execution_count": null,
   "id": "15c2c500",
   "metadata": {},
   "outputs": [],
   "source": [
    "# dummify predictor variables\n",
    "X_dum = pd.get_dummies(X, columns=['postc_area', 'cat_1', 'RatingValue', 'price'], drop_first=True)"
   ]
  },
  {
   "cell_type": "code",
   "execution_count": null,
   "id": "d590f067",
   "metadata": {},
   "outputs": [],
   "source": [
    "X_dum.head()"
   ]
  },
  {
   "cell_type": "code",
   "execution_count": null,
   "id": "3c163315",
   "metadata": {},
   "outputs": [],
   "source": [
    "# train-test split\n",
    "X_train, X_test, y_train, y_test = train_test_split(X_dum, y, stratify=y, test_size=0.2, random_state=1)"
   ]
  },
  {
   "cell_type": "code",
   "execution_count": null,
   "id": "d804aba9",
   "metadata": {},
   "outputs": [],
   "source": [
    "print(X_train.shape, y_train.shape)\n",
    "print(X_test.shape, y_test.shape)"
   ]
  },
  {
   "cell_type": "code",
   "execution_count": null,
   "id": "7d347183",
   "metadata": {},
   "outputs": [],
   "source": [
    "# rescale features\n",
    "scaler = StandardScaler()\n",
    "\n",
    "X_train = pd.DataFrame(scaler.fit_transform(X_train), columns=X_train.columns)\n",
    "X_test = pd.DataFrame(scaler.transform(X_test), columns=X_test.columns)\n"
   ]
  },
  {
   "cell_type": "code",
   "execution_count": null,
   "id": "1e99c0ff",
   "metadata": {},
   "outputs": [],
   "source": [
    "# create instance of Decision Tree Classifier model\n",
    "dtc_8 = DecisionTreeClassifier(random_state=1)\n",
    "\n",
    "# check for parameters of the model\n",
    "# list(dtc_8.get_params().keys())\n"
   ]
  },
  {
   "cell_type": "code",
   "execution_count": null,
   "id": "d20a01bc",
   "metadata": {},
   "outputs": [],
   "source": [
    "# set up grid search\n",
    "params_dtc = {'criterion': ['gini', 'entropy'], \n",
    "              'max_depth': list(range(1,30)),\n",
    "              'max_features': [0.5, 0.6, 0.7, 0.8, 0.9, 1.0]}\n",
    "\n",
    "gs_dtc_8 = GridSearchCV(estimator=dtc_8,\n",
    "                      param_grid=params_dtc,\n",
    "                      cv=5,\n",
    "                      verbose=1,\n",
    "                      return_train_score=True)"
   ]
  },
  {
   "cell_type": "code",
   "execution_count": null,
   "id": "b62e7813",
   "metadata": {},
   "outputs": [],
   "source": [
    "# fit the model and extract grid search results\n",
    "\n",
    "gs_dtc_8.fit(X_train, y_train)\n",
    "\n",
    "print('Best Parameters:')\n",
    "print(gs_dtc_8.best_params_)\n",
    "print('Best estimator mean cross validated training score:')\n",
    "print(gs_dtc_8.best_score_)\n",
    "print('Best estimator score on the full training set:')\n",
    "print(gs_dtc_8.score(X_train, y_train))\n",
    "print('Best estimator score on the test set:')\n",
    "print(gs_dtc_8.score(X_test, y_test))"
   ]
  },
  {
   "cell_type": "code",
   "execution_count": null,
   "id": "858349ab",
   "metadata": {},
   "outputs": [],
   "source": [
    "# get predictions\n",
    "predictions_train = gs_dtc_8.predict(X_train)\n",
    "predictions_test = gs_dtc_8.predict(X_test)"
   ]
  },
  {
   "cell_type": "code",
   "execution_count": null,
   "id": "9f08310a",
   "metadata": {},
   "outputs": [],
   "source": [
    "# confusion matrix for training set\n",
    "skplt.metrics.plot_confusion_matrix(y_train, predictions_train, labels=[1, 0], figsize=(6,6))\n",
    "plt.show()"
   ]
  },
  {
   "cell_type": "code",
   "execution_count": null,
   "id": "2b0694c6",
   "metadata": {},
   "outputs": [],
   "source": [
    "# confusion matrix for test set\n",
    "skplt.metrics.plot_confusion_matrix(y_test, predictions_test, labels=[1, 0], figsize=(6, 6))\n",
    "plt.show()"
   ]
  },
  {
   "cell_type": "code",
   "execution_count": null,
   "id": "b39de6be",
   "metadata": {},
   "outputs": [],
   "source": [
    "# classification report for training set\n",
    "print(classification_report(y_train, predictions_train))"
   ]
  },
  {
   "cell_type": "code",
   "execution_count": null,
   "id": "b8132509",
   "metadata": {},
   "outputs": [],
   "source": [
    "# classification report for test set\n",
    "print(classification_report(y_test, predictions_test))"
   ]
  },
  {
   "cell_type": "code",
   "execution_count": null,
   "id": "76ee1c6d",
   "metadata": {},
   "outputs": [],
   "source": [
    "probabilities_train = gs_dtc_8.predict_proba(X_train)\n",
    "probabilities_test = gs_dtc_8.predict_proba(X_test)"
   ]
  },
  {
   "cell_type": "code",
   "execution_count": null,
   "id": "4066873d",
   "metadata": {},
   "outputs": [],
   "source": [
    "# ROC curve for training set\n",
    "skplt.metrics.plot_roc(y_train, probabilities_train, figsize=(8,6))\n",
    "plt.show()"
   ]
  },
  {
   "cell_type": "code",
   "execution_count": null,
   "id": "da795ac8",
   "metadata": {},
   "outputs": [],
   "source": [
    "# ROC curve for test set\n",
    "skplt.metrics.plot_roc(y_test, probabilities_test, figsize=(8,6))\n",
    "plt.show()"
   ]
  },
  {
   "cell_type": "code",
   "execution_count": null,
   "id": "f58df48c",
   "metadata": {},
   "outputs": [],
   "source": [
    "# Precision-recall curve for training set\n",
    "skplt.metrics.plot_precision_recall(y_train, probabilities_train, figsize=(8,6))\n",
    "plt.show()"
   ]
  },
  {
   "cell_type": "code",
   "execution_count": null,
   "id": "ea5822db",
   "metadata": {},
   "outputs": [],
   "source": [
    "# Precision-recall curve for test set\n",
    "skplt.metrics.plot_precision_recall(y_test, probabilities_test, figsize=(8,6))\n",
    "plt.show()"
   ]
  },
  {
   "cell_type": "code",
   "execution_count": null,
   "id": "2340afbd",
   "metadata": {},
   "outputs": [],
   "source": [
    "dtc_best = gs_dtc_8.best_estimator_"
   ]
  },
  {
   "cell_type": "code",
   "execution_count": null,
   "id": "b41fe3f7",
   "metadata": {},
   "outputs": [],
   "source": [
    "# feature importance\n",
    "feat_imp = pd.DataFrame({'feature': X_train.columns, 'importance': dtc_best.feature_importances_})\n",
    "\n",
    "feat_imp.sort_values('importance', ascending=False, inplace=True)\n",
    "feat_imp"
   ]
  },
  {
   "cell_type": "code",
   "execution_count": null,
   "id": "fcb1b1fb",
   "metadata": {},
   "outputs": [],
   "source": [
    "# plot of top 15 features\n",
    "fig, ax = plt.subplots(figsize=(12, 10))\n",
    "ax = sns.barplot(x='importance', y='feature', data=feat_imp[:15], palette='YlOrRd_r')\n",
    "plt.show()"
   ]
  },
  {
   "cell_type": "code",
   "execution_count": null,
   "id": "d484a02f",
   "metadata": {},
   "outputs": [],
   "source": []
  },
  {
   "cell_type": "code",
   "execution_count": null,
   "id": "a3bc34da",
   "metadata": {},
   "outputs": [],
   "source": []
  },
  {
   "cell_type": "markdown",
   "id": "f532821c",
   "metadata": {},
   "source": [
    "#### B) Multiclass Classification"
   ]
  },
  {
   "cell_type": "code",
   "execution_count": null,
   "id": "e0ec75f2",
   "metadata": {},
   "outputs": [],
   "source": [
    "# add column for food hygiene label (3 classes: 5, 4, 3 and lower)\n",
    "df['fsa_label'] = df['RatingValue'].apply(lambda x: '5' if x==5 else '4' if x==4 else '3_lower')"
   ]
  },
  {
   "cell_type": "code",
   "execution_count": null,
   "id": "a34c7d4a",
   "metadata": {},
   "outputs": [],
   "source": [
    "# add column for Yelp rating label\n",
    "df['yelp_label'] = df['rating'].apply(lambda x: '5' if x==5 else '4' if x==4 or x==4.5 \n",
    "                                      else '3'if x==3 or x==3.5 \n",
    "                                      else '2'if x==2 or x==2.5\n",
    "                                      else '1')"
   ]
  },
  {
   "cell_type": "code",
   "execution_count": null,
   "id": "6e54c4d2",
   "metadata": {},
   "outputs": [],
   "source": [
    "df.head()"
   ]
  },
  {
   "cell_type": "code",
   "execution_count": null,
   "id": "ae06e3db",
   "metadata": {},
   "outputs": [],
   "source": [
    "# create subset of data dropping missing values for price\n",
    "sub_price = df.dropna(subset = ['price']) "
   ]
  },
  {
   "cell_type": "code",
   "execution_count": null,
   "id": "fd171e27",
   "metadata": {},
   "outputs": [],
   "source": [
    "sub_price.info()"
   ]
  },
  {
   "cell_type": "markdown",
   "id": "59700056",
   "metadata": {},
   "source": [
    "#### Model 9: Hygiene ratings (0-5) - decision tree - subset (including price)"
   ]
  },
  {
   "cell_type": "code",
   "execution_count": null,
   "id": "a0bed51f",
   "metadata": {},
   "outputs": [],
   "source": [
    "# baseline accuracy\n",
    "sub_price['RatingValue'].value_counts(normalize=True)"
   ]
  },
  {
   "cell_type": "code",
   "execution_count": null,
   "id": "5282bd24",
   "metadata": {},
   "outputs": [],
   "source": [
    "# define target variable\n",
    "y = sub_price['RatingValue']"
   ]
  },
  {
   "cell_type": "code",
   "execution_count": null,
   "id": "28e7c72b",
   "metadata": {},
   "outputs": [],
   "source": [
    "# define predictor variables\n",
    "X = sub_price[['is_chain', 'postc_area', 'cat_1', 'review_count', 'price', 'BusinessType']]"
   ]
  },
  {
   "cell_type": "code",
   "execution_count": null,
   "id": "b89326e8",
   "metadata": {},
   "outputs": [],
   "source": [
    "# dummify predictor variables\n",
    "X_dum = pd.get_dummies(X, columns=['postc_area', 'cat_1', 'price', 'BusinessType'], drop_first=True)"
   ]
  },
  {
   "cell_type": "code",
   "execution_count": null,
   "id": "6dc44e7f",
   "metadata": {},
   "outputs": [],
   "source": [
    "X_dum.head()"
   ]
  },
  {
   "cell_type": "code",
   "execution_count": null,
   "id": "02e4ed8b",
   "metadata": {},
   "outputs": [],
   "source": [
    "# train-test split\n",
    "X_train, X_test, y_train, y_test = train_test_split(X_dum, y, stratify=y, test_size=0.2, random_state=1)"
   ]
  },
  {
   "cell_type": "code",
   "execution_count": null,
   "id": "078abb81",
   "metadata": {},
   "outputs": [],
   "source": [
    "print(X_train.shape, y_train.shape)\n",
    "print(X_test.shape, y_test.shape)"
   ]
  },
  {
   "cell_type": "code",
   "execution_count": null,
   "id": "926d688a",
   "metadata": {},
   "outputs": [],
   "source": [
    "# rescale features\n",
    "scaler = StandardScaler()\n",
    "\n",
    "X_train = pd.DataFrame(scaler.fit_transform(X_train), columns=X_train.columns)\n",
    "X_test = pd.DataFrame(scaler.transform(X_test), columns=X_test.columns)"
   ]
  },
  {
   "cell_type": "code",
   "execution_count": null,
   "id": "15caf748",
   "metadata": {},
   "outputs": [],
   "source": [
    "# create instance of Decision Tree Classifier model\n",
    "dtc_9 = DecisionTreeClassifier(random_state=1)\n",
    "\n",
    "# check for parameters of the model\n",
    "# list(dtc_9.get_params().keys())\n"
   ]
  },
  {
   "cell_type": "code",
   "execution_count": null,
   "id": "7e2e7031",
   "metadata": {},
   "outputs": [],
   "source": [
    "# set up grid search\n",
    "params_dtc = {'criterion': ['gini', 'entropy'], \n",
    "              'max_depth': list(range(1,30)),\n",
    "              'max_features': [0.5, 0.6, 0.7, 0.8, 0.9, 1.0]}\n",
    "\n",
    "gs_dtc_9 = GridSearchCV(estimator=dtc_9,\n",
    "                      param_grid=params_dtc,\n",
    "                      cv=5,\n",
    "                      verbose=1,\n",
    "                      return_train_score=True)"
   ]
  },
  {
   "cell_type": "code",
   "execution_count": null,
   "id": "046537ee",
   "metadata": {},
   "outputs": [],
   "source": [
    "# fit the model and extract grid search results\n",
    "\n",
    "gs_dtc_9.fit(X_train, y_train)\n",
    "\n",
    "print('Best Parameters:')\n",
    "print(gs_dtc_9.best_params_)\n",
    "print('Best estimator mean cross validated training score:')\n",
    "print(gs_dtc_9.best_score_)\n",
    "print('Best estimator score on the full training set:')\n",
    "print(gs_dtc_9.score(X_train, y_train))\n",
    "print('Best estimator score on the test set:')\n",
    "print(gs_dtc_9.score(X_test, y_test))"
   ]
  },
  {
   "cell_type": "code",
   "execution_count": null,
   "id": "4eb677e3",
   "metadata": {},
   "outputs": [],
   "source": [
    "# get predictions\n",
    "predictions_train = gs_dtc_9.predict(X_train)\n",
    "predictions_test = gs_dtc_9.predict(X_test)"
   ]
  },
  {
   "cell_type": "code",
   "execution_count": null,
   "id": "e53fe1b6",
   "metadata": {},
   "outputs": [],
   "source": [
    "# confusion matrix for training set\n",
    "skplt.metrics.plot_confusion_matrix(y_train, predictions_train, labels=[0, 1, 2, 3, 4, 5], figsize=(6,6))\n",
    "plt.show()"
   ]
  },
  {
   "cell_type": "code",
   "execution_count": null,
   "id": "4c0032fe",
   "metadata": {},
   "outputs": [],
   "source": [
    "# confusion matrix for test set\n",
    "skplt.metrics.plot_confusion_matrix(y_test, predictions_test, labels=[0, 1, 2, 3, 4, 5], figsize=(6, 6))\n",
    "plt.show()"
   ]
  },
  {
   "cell_type": "code",
   "execution_count": null,
   "id": "df042995",
   "metadata": {},
   "outputs": [],
   "source": [
    "# classification report for training set\n",
    "print(classification_report(y_train, predictions_train))"
   ]
  },
  {
   "cell_type": "code",
   "execution_count": null,
   "id": "67a2ad1f",
   "metadata": {},
   "outputs": [],
   "source": [
    "# classification report for test set\n",
    "print(classification_report(y_test, predictions_test))"
   ]
  },
  {
   "cell_type": "code",
   "execution_count": null,
   "id": "923aced8",
   "metadata": {},
   "outputs": [],
   "source": []
  },
  {
   "cell_type": "markdown",
   "id": "d1e7b599",
   "metadata": {},
   "source": [
    "#### Model 10: Hygiene ratings (5, 4, 3 and lower) - decision tree - subset (including price)¶"
   ]
  },
  {
   "cell_type": "code",
   "execution_count": null,
   "id": "0eec4270",
   "metadata": {},
   "outputs": [],
   "source": [
    "# baseline accuracy\n",
    "sub_price['fsa_label'].value_counts(normalize=True)"
   ]
  },
  {
   "cell_type": "code",
   "execution_count": null,
   "id": "e18f45b6",
   "metadata": {},
   "outputs": [],
   "source": [
    "# define target variable\n",
    "y = sub_price['fsa_label']"
   ]
  },
  {
   "cell_type": "code",
   "execution_count": null,
   "id": "d5cfdd54",
   "metadata": {},
   "outputs": [],
   "source": [
    "# define predictor variables\n",
    "X = sub_price[['is_chain', 'postc_area', 'cat_1', 'review_count', 'price', 'BusinessType']]"
   ]
  },
  {
   "cell_type": "code",
   "execution_count": null,
   "id": "4ba7afb3",
   "metadata": {},
   "outputs": [],
   "source": [
    "# dummify predictor variables\n",
    "X_dum = pd.get_dummies(X, columns=['postc_area', 'cat_1', 'price', 'BusinessType'], drop_first=True)"
   ]
  },
  {
   "cell_type": "code",
   "execution_count": null,
   "id": "3fec3598",
   "metadata": {},
   "outputs": [],
   "source": [
    "X_dum.head()"
   ]
  },
  {
   "cell_type": "code",
   "execution_count": null,
   "id": "0333fdb1",
   "metadata": {},
   "outputs": [],
   "source": [
    "# train-test split\n",
    "X_train, X_test, y_train, y_test = train_test_split(X_dum, y, stratify=y, test_size=0.2, random_state=1)"
   ]
  },
  {
   "cell_type": "code",
   "execution_count": null,
   "id": "7d4eaf7d",
   "metadata": {},
   "outputs": [],
   "source": [
    "print(X_train.shape, y_train.shape)\n",
    "print(X_test.shape, y_test.shape)"
   ]
  },
  {
   "cell_type": "code",
   "execution_count": null,
   "id": "8b52adcf",
   "metadata": {},
   "outputs": [],
   "source": [
    "# rescale features\n",
    "scaler = StandardScaler()\n",
    "\n",
    "X_train = pd.DataFrame(scaler.fit_transform(X_train), columns=X_train.columns)\n",
    "X_test = pd.DataFrame(scaler.transform(X_test), columns=X_test.columns)"
   ]
  },
  {
   "cell_type": "code",
   "execution_count": null,
   "id": "54dc2c4e",
   "metadata": {},
   "outputs": [],
   "source": [
    "# create instance of Decision Tree Classifier model\n",
    "dtc_10 = DecisionTreeClassifier(random_state=1)\n",
    "\n",
    "# check for parameters of the model\n",
    "# list(dtc_10.get_params().keys())\n"
   ]
  },
  {
   "cell_type": "code",
   "execution_count": null,
   "id": "4a7d8062",
   "metadata": {},
   "outputs": [],
   "source": [
    "# set up grid search\n",
    "params_dtc = {'criterion': ['gini', 'entropy'], \n",
    "              'max_depth': list(range(1,30)),\n",
    "              'max_features': [0.5, 0.6, 0.7, 0.8, 0.9, 1.0]}\n",
    "\n",
    "gs_dtc_10 = GridSearchCV(estimator=dtc_10,\n",
    "                      param_grid=params_dtc,\n",
    "                      cv=5,\n",
    "                      verbose=1,\n",
    "                      return_train_score=True)"
   ]
  },
  {
   "cell_type": "code",
   "execution_count": null,
   "id": "5a1e8785",
   "metadata": {},
   "outputs": [],
   "source": [
    "# fit the model and extract grid search results\n",
    "\n",
    "gs_dtc_10.fit(X_train, y_train)\n",
    "\n",
    "print('Best Parameters:')\n",
    "print(gs_dtc_10.best_params_)\n",
    "print('Best estimator mean cross validated training score:')\n",
    "print(gs_dtc_10.best_score_)\n",
    "print('Best estimator score on the full training set:')\n",
    "print(gs_dtc_10.score(X_train, y_train))\n",
    "print('Best estimator score on the test set:')\n",
    "print(gs_dtc_10.score(X_test, y_test))"
   ]
  },
  {
   "cell_type": "code",
   "execution_count": null,
   "id": "623f4754",
   "metadata": {},
   "outputs": [],
   "source": [
    "# get predictions\n",
    "predictions_train = gs_dtc_10.predict(X_train)\n",
    "predictions_test = gs_dtc_10.predict(X_test)"
   ]
  },
  {
   "cell_type": "code",
   "execution_count": null,
   "id": "354957d2",
   "metadata": {},
   "outputs": [],
   "source": [
    "# confusion matrix for training set\n",
    "skplt.metrics.plot_confusion_matrix(y_train, predictions_train, labels=['5', '4', '3_lower'], figsize=(6,6))\n",
    "plt.show()"
   ]
  },
  {
   "cell_type": "code",
   "execution_count": null,
   "id": "a77cafc6",
   "metadata": {},
   "outputs": [],
   "source": [
    "# confusion matrix for test set\n",
    "skplt.metrics.plot_confusion_matrix(y_test, predictions_test, labels=['5', '4', '3_lower'], figsize=(6, 6))\n",
    "plt.show()"
   ]
  },
  {
   "cell_type": "code",
   "execution_count": null,
   "id": "f5e805f8",
   "metadata": {},
   "outputs": [],
   "source": [
    "# classification report for training set\n",
    "print(classification_report(y_train, predictions_train))"
   ]
  },
  {
   "cell_type": "code",
   "execution_count": null,
   "id": "d108fc0e",
   "metadata": {},
   "outputs": [],
   "source": [
    "# classification report for test set\n",
    "print(classification_report(y_test, predictions_test))"
   ]
  },
  {
   "cell_type": "code",
   "execution_count": null,
   "id": "d3a98034",
   "metadata": {},
   "outputs": [],
   "source": []
  },
  {
   "cell_type": "markdown",
   "id": "3fb9e732",
   "metadata": {},
   "source": [
    "#### Model 11: Yelp ratings - decision tree - subset (including price)"
   ]
  },
  {
   "cell_type": "code",
   "execution_count": null,
   "id": "65dc1514",
   "metadata": {},
   "outputs": [],
   "source": [
    "# baseline accuracy\n",
    "sub_price['yelp_label'].value_counts(normalize=True)"
   ]
  },
  {
   "cell_type": "code",
   "execution_count": null,
   "id": "5941c8f4",
   "metadata": {},
   "outputs": [],
   "source": [
    "# define target variable\n",
    "y = sub_price['yelp_label']"
   ]
  },
  {
   "cell_type": "code",
   "execution_count": null,
   "id": "0e9fd3f5",
   "metadata": {},
   "outputs": [],
   "source": [
    "# define predictor variables\n",
    "X = sub_price[['is_chain', 'postc_area', 'cat_1', 'RatingValue', 'review_count', 'price', 'BusinessType']]"
   ]
  },
  {
   "cell_type": "code",
   "execution_count": null,
   "id": "6974e639",
   "metadata": {},
   "outputs": [],
   "source": [
    "# dummify predictor variables\n",
    "X_dum = pd.get_dummies(X, columns=['postc_area', 'cat_1', 'RatingValue', 'price', 'BusinessType'], drop_first=True)"
   ]
  },
  {
   "cell_type": "code",
   "execution_count": null,
   "id": "6b221542",
   "metadata": {},
   "outputs": [],
   "source": [
    "X_dum.head()"
   ]
  },
  {
   "cell_type": "code",
   "execution_count": null,
   "id": "746d72fc",
   "metadata": {},
   "outputs": [],
   "source": [
    "# train-test split\n",
    "X_train, X_test, y_train, y_test = train_test_split(X_dum, y, stratify=y, test_size=0.2, random_state=1)"
   ]
  },
  {
   "cell_type": "code",
   "execution_count": null,
   "id": "ff51f007",
   "metadata": {},
   "outputs": [],
   "source": [
    "print(X_train.shape, y_train.shape)\n",
    "print(X_test.shape, y_test.shape)"
   ]
  },
  {
   "cell_type": "code",
   "execution_count": null,
   "id": "c90286cb",
   "metadata": {},
   "outputs": [],
   "source": [
    "# rescale features\n",
    "scaler = StandardScaler()\n",
    "\n",
    "X_train = pd.DataFrame(scaler.fit_transform(X_train), columns=X_train.columns)\n",
    "X_test = pd.DataFrame(scaler.transform(X_test), columns=X_test.columns)\n"
   ]
  },
  {
   "cell_type": "code",
   "execution_count": null,
   "id": "0b4251d6",
   "metadata": {},
   "outputs": [],
   "source": [
    "# create instance of Decision Tree Classifier model\n",
    "dtc_11 = DecisionTreeClassifier(random_state=1)\n",
    "\n",
    "# check for parameters of the model\n",
    "# list(dtc_11.get_params().keys())\n"
   ]
  },
  {
   "cell_type": "code",
   "execution_count": null,
   "id": "9834da81",
   "metadata": {},
   "outputs": [],
   "source": [
    "# set up grid search\n",
    "params_dtc = {'criterion': ['gini', 'entropy'], \n",
    "              'max_depth': list(range(1,30)),\n",
    "              'max_features': [0.5, 0.6, 0.7, 0.8, 0.9, 1.0]}\n",
    "\n",
    "gs_dtc_11 = GridSearchCV(estimator=dtc_11,\n",
    "                      param_grid=params_dtc,\n",
    "                      cv=5,\n",
    "                      verbose=1,\n",
    "                      return_train_score=True)"
   ]
  },
  {
   "cell_type": "code",
   "execution_count": null,
   "id": "da7ba9d6",
   "metadata": {},
   "outputs": [],
   "source": [
    "# fit the model and extract grid search results\n",
    "\n",
    "gs_dtc_11.fit(X_train, y_train)\n",
    "\n",
    "print('Best Parameters:')\n",
    "print(gs_dtc_11.best_params_)\n",
    "print('Best estimator mean cross validated training score:')\n",
    "print(gs_dtc_11.best_score_)\n",
    "print('Best estimator score on the full training set:')\n",
    "print(gs_dtc_11.score(X_train, y_train))\n",
    "print('Best estimator score on the test set:')\n",
    "print(gs_dtc_11.score(X_test, y_test))"
   ]
  },
  {
   "cell_type": "code",
   "execution_count": null,
   "id": "546ffb9a",
   "metadata": {},
   "outputs": [],
   "source": [
    "# get predictions\n",
    "predictions_train = gs_dtc_11.predict(X_train)\n",
    "predictions_test = gs_dtc_11.predict(X_test)"
   ]
  },
  {
   "cell_type": "code",
   "execution_count": null,
   "id": "b47c9d3a",
   "metadata": {},
   "outputs": [],
   "source": [
    "# confusion matrix for training set\n",
    "skplt.metrics.plot_confusion_matrix(y_train, predictions_train, labels=['1', '2', '3', '4', '5'], figsize=(6,6))\n",
    "plt.show()"
   ]
  },
  {
   "cell_type": "code",
   "execution_count": null,
   "id": "b43b65d8",
   "metadata": {},
   "outputs": [],
   "source": [
    "# confusion matrix for test set\n",
    "skplt.metrics.plot_confusion_matrix(y_test, predictions_test, labels=['1', '2', '3', '4', '5'], figsize=(6, 6))\n",
    "plt.show()"
   ]
  },
  {
   "cell_type": "code",
   "execution_count": null,
   "id": "344de115",
   "metadata": {},
   "outputs": [],
   "source": [
    "# classification report for training set\n",
    "print(classification_report(y_train, predictions_train))"
   ]
  },
  {
   "cell_type": "code",
   "execution_count": null,
   "id": "f3afb49d",
   "metadata": {},
   "outputs": [],
   "source": [
    "# classification report for test set\n",
    "print(classification_report(y_test, predictions_test))"
   ]
  },
  {
   "cell_type": "code",
   "execution_count": null,
   "id": "68cc154d",
   "metadata": {},
   "outputs": [],
   "source": []
  },
  {
   "cell_type": "code",
   "execution_count": null,
   "id": "8ed02ba5",
   "metadata": {},
   "outputs": [],
   "source": []
  },
  {
   "cell_type": "markdown",
   "id": "01c3adc0",
   "metadata": {},
   "source": [
    "#### C) Oversampling / SMOTE"
   ]
  },
  {
   "cell_type": "code",
   "execution_count": null,
   "id": "2e63b112",
   "metadata": {},
   "outputs": [],
   "source": [
    "from imblearn.under_sampling import RandomUnderSampler\n",
    "from imblearn.over_sampling import RandomOverSampler\n",
    "from imblearn.over_sampling import SMOTE\n",
    "from imblearn.pipeline import Pipeline"
   ]
  },
  {
   "cell_type": "code",
   "execution_count": null,
   "id": "cd09ed2f",
   "metadata": {},
   "outputs": [],
   "source": [
    "# no synthetic data in test set!"
   ]
  },
  {
   "cell_type": "markdown",
   "id": "c8bf80d3",
   "metadata": {},
   "source": [
    "#### Model 12: Hygiene ratings (5, 4, 3 and lower) - decision tree - subset/including price - SMOTE - multiclass"
   ]
  },
  {
   "cell_type": "code",
   "execution_count": null,
   "id": "8e237e23",
   "metadata": {},
   "outputs": [],
   "source": [
    "# baseline accuracy\n",
    "sub_price['fsa_label'].value_counts(normalize=True)"
   ]
  },
  {
   "cell_type": "code",
   "execution_count": null,
   "id": "d234a568",
   "metadata": {},
   "outputs": [],
   "source": [
    "# define target variable\n",
    "y = sub_price['fsa_label']"
   ]
  },
  {
   "cell_type": "code",
   "execution_count": null,
   "id": "4ad14222",
   "metadata": {},
   "outputs": [],
   "source": [
    "# define predictor variables\n",
    "X = sub_price[['is_chain', 'postc_area', 'cat_1', 'review_count', 'price', 'BusinessType']]"
   ]
  },
  {
   "cell_type": "code",
   "execution_count": null,
   "id": "aeff6e7b",
   "metadata": {},
   "outputs": [],
   "source": [
    "# dummify predictor variables\n",
    "X_dum = pd.get_dummies(X, columns=['postc_area', 'cat_1', 'price', 'BusinessType'], drop_first=True)"
   ]
  },
  {
   "cell_type": "code",
   "execution_count": null,
   "id": "752a93b7",
   "metadata": {},
   "outputs": [],
   "source": [
    "X_dum.head()"
   ]
  },
  {
   "cell_type": "code",
   "execution_count": null,
   "id": "36850e74",
   "metadata": {},
   "outputs": [],
   "source": [
    "# train-test split\n",
    "X_train, X_test, y_train, y_test = train_test_split(X_dum, y, stratify=y, test_size=0.2, random_state=1)"
   ]
  },
  {
   "cell_type": "code",
   "execution_count": null,
   "id": "946da6da",
   "metadata": {},
   "outputs": [],
   "source": [
    "print(X_train.shape, y_train.shape)\n",
    "print(X_test.shape, y_test.shape)"
   ]
  },
  {
   "cell_type": "code",
   "execution_count": null,
   "id": "ba46723e",
   "metadata": {},
   "outputs": [],
   "source": [
    "# https://towardsdatascience.com/the-right-way-of-using-smote-with-cross-validation-92a8d09d00c7\n",
    "# https://imbalanced-learn.org/stable/references/generated/imblearn.pipeline.Pipeline.html"
   ]
  },
  {
   "cell_type": "code",
   "execution_count": null,
   "id": "feb17bb5",
   "metadata": {},
   "outputs": [],
   "source": [
    "# use SMOTE as part of pipeline to avoid having synthetic validation data\n",
    "\n",
    "pipeline = Pipeline(steps = [['smote', SMOTE(random_state=1)],\n",
    "                             ['scaler', StandardScaler()],\n",
    "                             ['classifier', DecisionTreeClassifier(random_state=1)]])\n"
   ]
  },
  {
   "cell_type": "code",
   "execution_count": null,
   "id": "ff43a79c",
   "metadata": {},
   "outputs": [],
   "source": [
    "stratified_kfold = StratifiedKFold(n_splits=5, shuffle=True, random_state=1)"
   ]
  },
  {
   "cell_type": "code",
   "execution_count": null,
   "id": "b3338fed",
   "metadata": {},
   "outputs": [],
   "source": [
    "# pipeline.get_params().keys()"
   ]
  },
  {
   "cell_type": "code",
   "execution_count": null,
   "id": "4ad70cb1",
   "metadata": {},
   "outputs": [],
   "source": [
    "# set up grid search\n",
    "params_dtc = {'classifier__criterion': ['gini', 'entropy'], \n",
    "              'classifier__max_depth': list(range(1,30)),\n",
    "              'classifier__max_features': [0.5, 0.6, 0.7, 0.8, 0.9, 1.0]}\n",
    "\n",
    "gs_dtc_12 = GridSearchCV(estimator=pipeline,\n",
    "                      param_grid=params_dtc,\n",
    "                      cv=stratified_kfold,\n",
    "                      verbose=1,\n",
    "                      return_train_score=True)"
   ]
  },
  {
   "cell_type": "code",
   "execution_count": null,
   "id": "01d089f9",
   "metadata": {},
   "outputs": [],
   "source": [
    "gs_dtc_12.fit(X_train, y_train)\n",
    "\n",
    "print('Best Parameters:')\n",
    "print(gs_dtc_12.best_params_)\n",
    "print('Best estimator mean cross validated training score:')\n",
    "print(gs_dtc_12.best_score_)\n",
    "print('Best estimator score on the full training set:')\n",
    "print(gs_dtc_12.score(X_train, y_train))\n",
    "print('Best estimator score on the test set:')\n",
    "print(gs_dtc_12.score(X_test, y_test))"
   ]
  },
  {
   "cell_type": "code",
   "execution_count": null,
   "id": "16a326b6",
   "metadata": {},
   "outputs": [],
   "source": [
    "# get predictions\n",
    "predictions_train = gs_dtc_12.predict(X_train)\n",
    "predictions_test = gs_dtc_12.predict(X_test)"
   ]
  },
  {
   "cell_type": "code",
   "execution_count": null,
   "id": "ad7f1465",
   "metadata": {},
   "outputs": [],
   "source": [
    "# confusion matrix for training set\n",
    "skplt.metrics.plot_confusion_matrix(y_train, predictions_train, labels=['5', '4', '3_lower'], figsize=(6,6))\n",
    "plt.show()"
   ]
  },
  {
   "cell_type": "code",
   "execution_count": null,
   "id": "7988d63f",
   "metadata": {},
   "outputs": [],
   "source": [
    "# confusion matrix for test set\n",
    "skplt.metrics.plot_confusion_matrix(y_test, predictions_test, labels=['5', '4', '3_lower'], figsize=(6, 6))\n",
    "plt.show()"
   ]
  },
  {
   "cell_type": "code",
   "execution_count": null,
   "id": "8054c018",
   "metadata": {},
   "outputs": [],
   "source": [
    "# classification report for training set\n",
    "print(classification_report(y_train, predictions_train))"
   ]
  },
  {
   "cell_type": "code",
   "execution_count": null,
   "id": "d24f21ca",
   "metadata": {},
   "outputs": [],
   "source": [
    "# classification report for test set\n",
    "print(classification_report(y_test, predictions_test))"
   ]
  },
  {
   "cell_type": "code",
   "execution_count": null,
   "id": "a98687a2",
   "metadata": {},
   "outputs": [],
   "source": []
  },
  {
   "cell_type": "markdown",
   "id": "00c0ae81",
   "metadata": {},
   "source": [
    "#### Model 13: Hygiene ratings (0-5) - decision tree - subset/including price - SMOTE - multiclass"
   ]
  },
  {
   "cell_type": "code",
   "execution_count": null,
   "id": "98439e3b",
   "metadata": {},
   "outputs": [],
   "source": [
    "# baseline accuracy\n",
    "sub_price['RatingValue'].value_counts(normalize=True)"
   ]
  },
  {
   "cell_type": "code",
   "execution_count": null,
   "id": "f808f1eb",
   "metadata": {},
   "outputs": [],
   "source": [
    "# define target variable\n",
    "y = sub_price['RatingValue']"
   ]
  },
  {
   "cell_type": "code",
   "execution_count": null,
   "id": "ac8f87ef",
   "metadata": {},
   "outputs": [],
   "source": [
    "# define predictor variables\n",
    "X = sub_price[['is_chain', 'postc_area', 'cat_1', 'review_count', 'price', 'BusinessType']]"
   ]
  },
  {
   "cell_type": "code",
   "execution_count": null,
   "id": "e82d9c09",
   "metadata": {},
   "outputs": [],
   "source": [
    "# dummify predictor variables\n",
    "X_dum = pd.get_dummies(X, columns=['postc_area', 'cat_1', 'price', 'BusinessType'], drop_first=True)"
   ]
  },
  {
   "cell_type": "code",
   "execution_count": null,
   "id": "7fe5afab",
   "metadata": {},
   "outputs": [],
   "source": [
    "X_dum.head()"
   ]
  },
  {
   "cell_type": "code",
   "execution_count": null,
   "id": "db457ed4",
   "metadata": {},
   "outputs": [],
   "source": [
    "# train-test split\n",
    "X_train, X_test, y_train, y_test = train_test_split(X_dum, y, stratify=y, test_size=0.2, random_state=1)"
   ]
  },
  {
   "cell_type": "code",
   "execution_count": null,
   "id": "76133502",
   "metadata": {},
   "outputs": [],
   "source": [
    "print(X_train.shape, y_train.shape)\n",
    "print(X_test.shape, y_test.shape)"
   ]
  },
  {
   "cell_type": "code",
   "execution_count": null,
   "id": "c9e90cc7",
   "metadata": {},
   "outputs": [],
   "source": [
    "pipeline = Pipeline(steps = [['smote', SMOTE(random_state=1)],\n",
    "                             ['scaler', StandardScaler()],\n",
    "                             ['classifier', DecisionTreeClassifier(random_state=1)]])\n"
   ]
  },
  {
   "cell_type": "code",
   "execution_count": null,
   "id": "bd9e8c5a",
   "metadata": {},
   "outputs": [],
   "source": [
    "stratified_kfold = StratifiedKFold(n_splits=5, shuffle=True, random_state=1)"
   ]
  },
  {
   "cell_type": "code",
   "execution_count": null,
   "id": "179cb499",
   "metadata": {},
   "outputs": [],
   "source": [
    "# set up grid search\n",
    "params_dtc = {'classifier__criterion': ['gini', 'entropy'], \n",
    "              'classifier__max_depth': list(range(1,30)),\n",
    "              'classifier__max_features': [0.5, 0.6, 0.7, 0.8, 0.9, 1.0]}\n",
    "\n",
    "gs_dtc_13 = GridSearchCV(estimator=pipeline,\n",
    "                      param_grid=params_dtc,\n",
    "                      cv=stratified_kfold,\n",
    "                      verbose=1,\n",
    "                      return_train_score=True)"
   ]
  },
  {
   "cell_type": "code",
   "execution_count": null,
   "id": "e311e3b2",
   "metadata": {},
   "outputs": [],
   "source": [
    "gs_dtc_13.fit(X_train, y_train)\n",
    "\n",
    "print('Best Parameters:')\n",
    "print(gs_dtc_13.best_params_)\n",
    "print('Best estimator mean cross validated training score:')\n",
    "print(gs_dtc_13.best_score_)\n",
    "print('Best estimator score on the full training set:')\n",
    "print(gs_dtc_13.score(X_train, y_train))\n",
    "print('Best estimator score on the test set:')\n",
    "print(gs_dtc_13.score(X_test, y_test))"
   ]
  },
  {
   "cell_type": "code",
   "execution_count": null,
   "id": "41cc3132",
   "metadata": {},
   "outputs": [],
   "source": [
    "# get predictions\n",
    "predictions_train = gs_dtc_13.predict(X_train)\n",
    "predictions_test = gs_dtc_13.predict(X_test)"
   ]
  },
  {
   "cell_type": "code",
   "execution_count": null,
   "id": "1fb6e6f1",
   "metadata": {},
   "outputs": [],
   "source": [
    "# confusion matrix for training set\n",
    "skplt.metrics.plot_confusion_matrix(y_train, predictions_train, labels=[0, 1, 2, 3, 4, 5], figsize=(6,6))\n",
    "plt.show()"
   ]
  },
  {
   "cell_type": "code",
   "execution_count": null,
   "id": "97cddef0",
   "metadata": {},
   "outputs": [],
   "source": [
    "# confusion matrix for test set\n",
    "skplt.metrics.plot_confusion_matrix(y_test, predictions_test, labels=[0, 1, 2, 3, 4, 5], figsize=(6, 6))\n",
    "plt.show()"
   ]
  },
  {
   "cell_type": "code",
   "execution_count": null,
   "id": "081970f8",
   "metadata": {},
   "outputs": [],
   "source": [
    "# classification report for training set\n",
    "print(classification_report(y_train, predictions_train))"
   ]
  },
  {
   "cell_type": "code",
   "execution_count": null,
   "id": "3c347eef",
   "metadata": {},
   "outputs": [],
   "source": [
    "# classification report for test set\n",
    "print(classification_report(y_test, predictions_test))"
   ]
  },
  {
   "cell_type": "code",
   "execution_count": null,
   "id": "86d37b52",
   "metadata": {},
   "outputs": [],
   "source": []
  },
  {
   "cell_type": "markdown",
   "id": "532a4a72",
   "metadata": {},
   "source": [
    "#### Model 14: Yelp ratings - decision tree - subset/including price  - SMOTE  - multiclass"
   ]
  },
  {
   "cell_type": "code",
   "execution_count": null,
   "id": "fdc29571",
   "metadata": {},
   "outputs": [],
   "source": [
    "# baseline accuracy\n",
    "sub_price['yelp_label'].value_counts(normalize=True)"
   ]
  },
  {
   "cell_type": "code",
   "execution_count": null,
   "id": "33670336",
   "metadata": {},
   "outputs": [],
   "source": [
    "# define target variable\n",
    "y = sub_price['yelp_label']"
   ]
  },
  {
   "cell_type": "code",
   "execution_count": null,
   "id": "8a9676c4",
   "metadata": {},
   "outputs": [],
   "source": [
    "# define predictor variables\n",
    "X = sub_price[['is_chain', 'postc_area', 'cat_1', 'RatingValue', 'review_count', 'price', 'BusinessType']]"
   ]
  },
  {
   "cell_type": "code",
   "execution_count": null,
   "id": "86047fc6",
   "metadata": {},
   "outputs": [],
   "source": [
    "# dummify predictor variables\n",
    "X_dum = pd.get_dummies(X, columns=['postc_area', 'cat_1', 'RatingValue', 'price', 'BusinessType'], drop_first=True)"
   ]
  },
  {
   "cell_type": "code",
   "execution_count": null,
   "id": "3f0d383c",
   "metadata": {},
   "outputs": [],
   "source": [
    "X_dum.head()"
   ]
  },
  {
   "cell_type": "code",
   "execution_count": null,
   "id": "a20c42fd",
   "metadata": {},
   "outputs": [],
   "source": [
    "# train-test split\n",
    "X_train, X_test, y_train, y_test = train_test_split(X_dum, y, stratify=y, test_size=0.2, random_state=1)"
   ]
  },
  {
   "cell_type": "code",
   "execution_count": null,
   "id": "6f376c21",
   "metadata": {},
   "outputs": [],
   "source": [
    "print(X_train.shape, y_train.shape)\n",
    "print(X_test.shape, y_test.shape)"
   ]
  },
  {
   "cell_type": "code",
   "execution_count": null,
   "id": "ad3e68b7",
   "metadata": {},
   "outputs": [],
   "source": [
    "pipeline = Pipeline(steps = [['smote', SMOTE(random_state=1)],\n",
    "                             ['scaler', StandardScaler()],\n",
    "                             ['classifier', DecisionTreeClassifier(random_state=1)]])\n"
   ]
  },
  {
   "cell_type": "code",
   "execution_count": null,
   "id": "cc7b8d44",
   "metadata": {},
   "outputs": [],
   "source": [
    "stratified_kfold = StratifiedKFold(n_splits=5, shuffle=True, random_state=1)"
   ]
  },
  {
   "cell_type": "code",
   "execution_count": null,
   "id": "0d617ce7",
   "metadata": {},
   "outputs": [],
   "source": [
    "# set up grid search\n",
    "params_dtc = {'classifier__criterion': ['gini', 'entropy'], \n",
    "              'classifier__max_depth': list(range(1,30)),\n",
    "              'classifier__max_features': [0.5, 0.6, 0.7, 0.8, 0.9, 1.0]}\n",
    "\n",
    "gs_dtc_14 = GridSearchCV(estimator=pipeline,\n",
    "                      param_grid=params_dtc,\n",
    "                      cv=stratified_kfold,\n",
    "                      verbose=1,\n",
    "                      return_train_score=True)\n"
   ]
  },
  {
   "cell_type": "code",
   "execution_count": null,
   "id": "6c1df0d4",
   "metadata": {},
   "outputs": [],
   "source": [
    "gs_dtc_14.fit(X_train, y_train)\n",
    "\n",
    "print('Best Parameters:')\n",
    "print(gs_dtc_14.best_params_)\n",
    "print('Best estimator mean cross validated training score:')\n",
    "print(gs_dtc_14.best_score_)\n",
    "print('Best estimator score on the full training set:')\n",
    "print(gs_dtc_14.score(X_train, y_train))\n",
    "print('Best estimator score on the test set:')\n",
    "print(gs_dtc_14.score(X_test, y_test))\n"
   ]
  },
  {
   "cell_type": "code",
   "execution_count": null,
   "id": "af6a0e1c",
   "metadata": {},
   "outputs": [],
   "source": [
    "# get predictions\n",
    "predictions_train = gs_dtc_14.predict(X_train)\n",
    "predictions_test = gs_dtc_14.predict(X_test)"
   ]
  },
  {
   "cell_type": "code",
   "execution_count": null,
   "id": "bca93040",
   "metadata": {},
   "outputs": [],
   "source": [
    "# confusion matrix for training set\n",
    "skplt.metrics.plot_confusion_matrix(y_train, predictions_train, labels=['1', '2', '3', '4', '5'], figsize=(6,6))\n",
    "plt.show()"
   ]
  },
  {
   "cell_type": "code",
   "execution_count": null,
   "id": "065f6d81",
   "metadata": {},
   "outputs": [],
   "source": [
    "# confusion matrix for test set\n",
    "skplt.metrics.plot_confusion_matrix(y_test, predictions_test, labels=['1', '2', '3', '4', '5'], figsize=(6, 6))\n",
    "plt.show()"
   ]
  },
  {
   "cell_type": "code",
   "execution_count": null,
   "id": "b8a26633",
   "metadata": {},
   "outputs": [],
   "source": [
    "# classification report for training set\n",
    "print(classification_report(y_train, predictions_train))"
   ]
  },
  {
   "cell_type": "code",
   "execution_count": null,
   "id": "7491136e",
   "metadata": {},
   "outputs": [],
   "source": [
    "# classification report for test set\n",
    "print(classification_report(y_test, predictions_test))"
   ]
  },
  {
   "cell_type": "code",
   "execution_count": null,
   "id": "5d5f2e73",
   "metadata": {},
   "outputs": [],
   "source": []
  },
  {
   "cell_type": "markdown",
   "id": "71019af4",
   "metadata": {},
   "source": [
    "#### Model Summary ####\n",
    "\n",
    "Several binary classification models were run in order to predict if a restaurant's food hygiene rating or Yelp rating were high. The cut-off point used was 5 for a high food hygiene rating and 4 for a high Yelp rating.\n",
    "\n",
    "Both a Logistic Regression and a Decision Tree Classifier were applied to the full dataset and to a subset of the data for which price information was available.\n",
    "\n",
    "The highest performing model was a Logistic Regression applied to the data subset, which predicted a high Yelp rating. The accuracy of the model (the proportion of correctly classified observations regardless of class) was 0.625814 (mean cross-validated score). This result is 4.1 percentage points above the baseline of 0.584716. Recall was only 0.42 for the low Yelp rating class, i.e. only 42% of truly low Yelp ratings were correctly predicted as such. Precision was 0.66 for the high Yelp rating class and 0.61 for the low Yelp rating class - 66% of observations predicted as high and 61% of observations predicted as low were correctly labeled. Overall, the model has only limited predictive power. \n",
    "\n",
    "Review count had the highest positive coefficient, i.e. all else being equal a high number of reviews increased the probability of the Yelp rating being classed as high the most. The strongest decrease in the probability of a high Yelp rating resulted from the restaurant being a pub or part of a chain.\n",
    "\n",
    "Multiclass classification models using a Decision Tree Classifier were applied to the data subset. The aim was to predict specific food hygiene and Yelp ratings rather than a high or low rating as in the binary model.\n",
    "\n",
    "The accuracy was very close to the baseline as the models predicted the majority class (food hygiene rating of 5 and Yelp rating of 4) but failed to classify the minority classes correctly. Specifically, recall was very low for the minority classes and in some cases close or equal to 0. Overall the multiclass classification models had poor predictive power.\n",
    "\n",
    "The SMOTE algorithm was applied to address the underlying problem of class imbalance. SMOTE is an oversampling technique where synthetic data points are generated for the minority classes. This was applied within a pipeline to avoid using synthetic data for cross-validating or testing the model. \n",
    "\n",
    "Recall was improved by using SMOTE on the multiclass classification, however this applied mainly to the training scores. For the model predicting a specific food hygiene rating, recall of the minority classes was between 0.75 and 0.84 for the training set. For the test set, these numbers dropped to between 0.09 and 0.26. This indicates overfitting and means the model doesn't generalise well on unseen data. \n",
    "\n",
    "With regard to recall, the model predicting a specific Yelp rating class had a low score for a rating of 5 and considerable differences between training and test data for ratings of 1 and 2. The overall accuracy of the model was only 0.39.  \n",
    "\n",
    "\n",
    "#### Limitations ####\n",
    "\n",
    "- Class imbalance: The main limitation of the models stems from an underlying imbalance of classes in the data set which could not be fully resolved by applying the SMOTE algorithm.\n",
    "\n",
    "- Predictors: The limited availability of restaurant attributes through the Yelp API limited the number of predictors that could be used for modelling. There might also be bias due to the approach for feature engineering used to identify restaurants that belong to chains (possibly underestimating the number of chain restaurants).\n",
    "\n",
    "- Data set: The data set resulted from matching restaurants in two separate data sets (Yelp and Food Standards Agency data). This reduced the number of observations and might have introduced bias (resulting subset might not be representative of overall restaurant population)."
   ]
  },
  {
   "cell_type": "code",
   "execution_count": null,
   "id": "93750572",
   "metadata": {},
   "outputs": [],
   "source": []
  },
  {
   "cell_type": "code",
   "execution_count": null,
   "id": "5d9361b5",
   "metadata": {},
   "outputs": [],
   "source": []
  },
  {
   "cell_type": "code",
   "execution_count": null,
   "id": "4161ea99",
   "metadata": {},
   "outputs": [],
   "source": []
  },
  {
   "cell_type": "code",
   "execution_count": null,
   "id": "c11e29a6",
   "metadata": {},
   "outputs": [],
   "source": []
  },
  {
   "cell_type": "code",
   "execution_count": null,
   "id": "29f7d0b9",
   "metadata": {},
   "outputs": [],
   "source": []
  },
  {
   "cell_type": "code",
   "execution_count": null,
   "id": "82ab4976",
   "metadata": {},
   "outputs": [],
   "source": []
  },
  {
   "cell_type": "code",
   "execution_count": null,
   "id": "1c58577a",
   "metadata": {},
   "outputs": [],
   "source": []
  },
  {
   "cell_type": "code",
   "execution_count": null,
   "id": "425ef8c8",
   "metadata": {},
   "outputs": [],
   "source": []
  }
 ],
 "metadata": {
  "kernelspec": {
   "display_name": "Python 3",
   "language": "python",
   "name": "python3"
  },
  "language_info": {
   "codemirror_mode": {
    "name": "ipython",
    "version": 3
   },
   "file_extension": ".py",
   "mimetype": "text/x-python",
   "name": "python",
   "nbconvert_exporter": "python",
   "pygments_lexer": "ipython3",
   "version": "3.8.8"
  }
 },
 "nbformat": 4,
 "nbformat_minor": 5
}
