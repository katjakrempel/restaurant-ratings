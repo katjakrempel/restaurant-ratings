{
 "cells": [
  {
   "cell_type": "markdown",
   "id": "cea059d9",
   "metadata": {},
   "source": [
    "### Data Collection - Food Standards Agency"
   ]
  },
  {
   "cell_type": "code",
   "execution_count": null,
   "id": "dd570ba6",
   "metadata": {},
   "outputs": [],
   "source": [
    "import pandas as pd\n",
    "import numpy as np\n",
    "import requests\n",
    "import random\n",
    "import time\n",
    "import re\n",
    "import os, glob\n",
    "\n",
    "import seaborn as sns\n",
    "import matplotlib.pyplot as plt\n",
    "\n",
    "plt.style.use('ggplot')\n",
    "\n",
    "%config InlineBackend.figure_format = 'retina'\n",
    "%matplotlib inline"
   ]
  },
  {
   "cell_type": "code",
   "execution_count": null,
   "id": "19fde5b6",
   "metadata": {},
   "outputs": [],
   "source": [
    "# https://api.ratings.food.gov.uk/Help"
   ]
  },
  {
   "cell_type": "code",
   "execution_count": null,
   "id": "819b2a06",
   "metadata": {},
   "outputs": [],
   "source": [
    "# query API - ratings details\n",
    "url = 'http://api.ratings.food.gov.uk/ratings'\n",
    "headers = {'x-api-version': '2'}\n",
    "\n",
    "response = requests.get(url=url, headers=headers, timeout=10)"
   ]
  },
  {
   "cell_type": "code",
   "execution_count": null,
   "id": "7d679c28",
   "metadata": {},
   "outputs": [],
   "source": [
    "# return response as JSON object\n",
    "data_dict = response.json()\n",
    "data_dict"
   ]
  },
  {
   "cell_type": "code",
   "execution_count": null,
   "id": "1587c490",
   "metadata": {},
   "outputs": [],
   "source": [
    "# query API - establishment details\n",
    "url = 'http://api.ratings.food.gov.uk/establishments/basic'\n",
    "headers = {'x-api-version': '2'}\n",
    "\n",
    "response = requests.get(url=url, headers=headers, timeout=10)"
   ]
  },
  {
   "cell_type": "code",
   "execution_count": null,
   "id": "4657001f",
   "metadata": {},
   "outputs": [],
   "source": [
    "# return response as JSON object\n",
    "data_dict = response.json()\n",
    "data_dict"
   ]
  },
  {
   "cell_type": "code",
   "execution_count": null,
   "id": "4eda567c",
   "metadata": {},
   "outputs": [],
   "source": [
    "# query API - local authority details\n",
    "url = 'http://api.ratings.food.gov.uk/authorities'\n",
    "headers = {'x-api-version': '2'}\n",
    "\n",
    "response = requests.get(url=url, headers=headers, timeout=10)"
   ]
  },
  {
   "cell_type": "code",
   "execution_count": null,
   "id": "b167e320",
   "metadata": {},
   "outputs": [],
   "source": [
    "# return response as JSON object\n",
    "data_dict = response.json()\n",
    "data_dict"
   ]
  },
  {
   "cell_type": "code",
   "execution_count": null,
   "id": "ccd93645",
   "metadata": {},
   "outputs": [],
   "source": [
    "# check JSON keys\n",
    "data_dict.keys()"
   ]
  },
  {
   "cell_type": "code",
   "execution_count": null,
   "id": "21ee883c",
   "metadata": {},
   "outputs": [],
   "source": [
    "# create dataframe of local authorities and their IDs\n",
    "\n",
    "local_auth = {'local_auth_id':[],\n",
    "              'name':[],\n",
    "              'region':[]}\n",
    "\n",
    "for item in data_dict['authorities']:\n",
    "    try:\n",
    "        local_auth['local_auth_id'].append(item['LocalAuthorityId'])\n",
    "    except:\n",
    "        local_auth['local_auth_id'].append(np.nan)\n",
    "    try:\n",
    "        local_auth['name'].append(item['Name'])\n",
    "    except:\n",
    "        local_auth['name'].append(np.nan)\n",
    "    try:\n",
    "        local_auth['region'].append(item['RegionName'])\n",
    "    except:\n",
    "        local_auth['region'].append(np.nan)\n",
    "\n",
    "local_auth = pd.DataFrame(local_auth)\n",
    "local_auth\n"
   ]
  },
  {
   "cell_type": "code",
   "execution_count": null,
   "id": "7e609bb4",
   "metadata": {},
   "outputs": [],
   "source": [
    "# filter for local authorities in London\n",
    "local_auth[local_auth['region']=='London']"
   ]
  },
  {
   "cell_type": "code",
   "execution_count": null,
   "id": "a85f1076",
   "metadata": {},
   "outputs": [],
   "source": [
    "# get IDs of London local authorities\n",
    "london_ids = local_auth['local_auth_id'][local_auth['region']=='London'].unique()\n",
    "london_ids"
   ]
  },
  {
   "cell_type": "code",
   "execution_count": null,
   "id": "982eeb6b",
   "metadata": {},
   "outputs": [],
   "source": [
    "# expand scope - get local authority IDs for all relevant regions\n",
    "all_reg_ids = local_auth['local_auth_id'][(local_auth['region']=='South East') |\n",
    "                                          (local_auth['region']=='East Counties') |\n",
    "                                          (local_auth['region']=='North West') |\n",
    "                                          (local_auth['region']=='East Midlands') |\n",
    "                                          (local_auth['region']=='South West') |\n",
    "                                          (local_auth['region']=='West Midlands') |\n",
    "                                          (local_auth['region']=='Yorkshire and Humberside') |\n",
    "                                          (local_auth['region']=='North East') |\n",
    "                                          (local_auth['region']=='Northern Ireland') |\n",
    "                                          (local_auth['region']=='Wales')].unique()\n",
    "all_reg_ids"
   ]
  },
  {
   "cell_type": "code",
   "execution_count": null,
   "id": "fa997ce2",
   "metadata": {},
   "outputs": [],
   "source": [
    "# query API by local authority ID - test"
   ]
  },
  {
   "cell_type": "code",
   "execution_count": null,
   "id": "ab0848ba",
   "metadata": {},
   "outputs": [],
   "source": [
    "# set parameters\n",
    "url = 'http://api.ratings.food.gov.uk/establishments'\n",
    "headers = {'x-api-version': '2'}\n",
    "params = {'localAuthorityId': 89}"
   ]
  },
  {
   "cell_type": "code",
   "execution_count": null,
   "id": "a73bfc48",
   "metadata": {},
   "outputs": [],
   "source": [
    "# fetch response data\n",
    "r = requests.get(url=url, headers=headers, params=params, timeout=10)"
   ]
  },
  {
   "cell_type": "code",
   "execution_count": null,
   "id": "cba77ffb",
   "metadata": {},
   "outputs": [],
   "source": [
    "# check response headers\n",
    "print(r.headers)"
   ]
  },
  {
   "cell_type": "code",
   "execution_count": null,
   "id": "347d2347",
   "metadata": {},
   "outputs": [],
   "source": [
    "# return response as JSON object\n",
    "data_dict = r.json()\n",
    "data_dict"
   ]
  },
  {
   "cell_type": "code",
   "execution_count": null,
   "id": "19bcb62b",
   "metadata": {},
   "outputs": [],
   "source": [
    "# check JSON keys\n",
    "data_dict.keys()"
   ]
  },
  {
   "cell_type": "code",
   "execution_count": null,
   "id": "48b10b94",
   "metadata": {},
   "outputs": [],
   "source": [
    "# define function to extract business details from JSON and convert to dataframe\n",
    "\n",
    "def convert_to_df(data_dict):\n",
    "    \n",
    "    rest_fsa = {'FHRSID':[],\n",
    "                'BusinessName':[],\n",
    "                'BusinessType':[],\n",
    "                'BusinessTypeID':[],\n",
    "                'AddressLine1':[],\n",
    "                'AddressLine2':[],\n",
    "                'AddressLine3':[],\n",
    "                'AddressLine4':[],\n",
    "                'PostCode':[],\n",
    "                'RatingValue':[],\n",
    "                'RatingKey':[],\n",
    "                'RatingDate':[],\n",
    "                'LocalAuthorityCode':[],\n",
    "                'LocalAuthorityName':[],\n",
    "                'Hygiene':[],\n",
    "                'Structural':[],\n",
    "                'ConfidenceInManagement':[],\n",
    "                'longitude':[],\n",
    "                'latitude': [],\n",
    "                'RightToReply':[],\n",
    "                'NewRatingPending':[]}\n",
    "\n",
    "    for item in data_dict['establishments']:\n",
    "        try:\n",
    "            rest_fsa['FHRSID'].append(item['FHRSID'])\n",
    "        except:\n",
    "            rest_fsa['FHRSID'].append(np.nan)\n",
    "        try:\n",
    "            rest_fsa['BusinessName'].append(item['BusinessName'])\n",
    "        except:\n",
    "            rest_fsa['BusinessName'].append(np.nan)\n",
    "        try:\n",
    "            rest_fsa['BusinessType'].append(item['BusinessType'])\n",
    "        except:\n",
    "            rest_fsa['BusinessType'].append(np.nan)\n",
    "        try:\n",
    "            rest_fsa['BusinessTypeID'].append(item['BusinessTypeID'])\n",
    "        except:\n",
    "            rest_fsa['BusinessTypeID'].append(np.nan)\n",
    "        try:\n",
    "            rest_fsa['AddressLine1'].append(item['AddressLine1'])\n",
    "        except:\n",
    "            rest_fsa['AddressLine1'].append(np.nan)\n",
    "        try:\n",
    "            rest_fsa['AddressLine2'].append(item['AddressLine2'])\n",
    "        except:\n",
    "            rest_fsa['AddressLine2'].append(np.nan)\n",
    "        try:\n",
    "            rest_fsa['AddressLine3'].append(item['AddressLine3'])\n",
    "        except:\n",
    "            rest_fsa['AddressLine3'].append(np.nan)\n",
    "        try:\n",
    "            rest_fsa['AddressLine4'].append(item['AddressLine4'])\n",
    "        except:\n",
    "            rest_fsa['AddressLine4'].append(np.nan)\n",
    "        try:\n",
    "            rest_fsa['PostCode'].append(item['PostCode'])\n",
    "        except:\n",
    "            rest_fsa['PostCode'].append(np.nan) \n",
    "        try:\n",
    "            rest_fsa['RatingValue'].append(item['RatingValue'])\n",
    "        except:\n",
    "            rest_fsa['RatingValue'].append(np.nan)\n",
    "        try:\n",
    "            rest_fsa['RatingKey'].append(item['RatingKey'])\n",
    "        except:\n",
    "            rest_fsa['RatingKey'].append(np.nan)    \n",
    "        try:\n",
    "            rest_fsa['RatingDate'].append(item['RatingDate'])\n",
    "        except:\n",
    "            rest_fsa['RatingDate'].append(np.nan)\n",
    "        try:\n",
    "            rest_fsa['LocalAuthorityCode'].append(item['LocalAuthorityCode'])\n",
    "        except:\n",
    "            rest_fsa['LocalAuthorityCode'].append(np.nan)\n",
    "        try:\n",
    "            rest_fsa['LocalAuthorityName'].append(item['LocalAuthorityName'])\n",
    "        except:\n",
    "            rest_fsa['LocalAuthorityName'].append(np.nan)\n",
    "        try:\n",
    "            rest_fsa['Hygiene'].append(item['scores']['Hygiene'])\n",
    "        except:\n",
    "            rest_fsa['Hygiene'].append(np.nan)\n",
    "        try:\n",
    "            rest_fsa['Structural'].append(item['scores']['Structural'])\n",
    "        except:\n",
    "            rest_fsa['Structural'].append(np.nan)\n",
    "        try:\n",
    "            rest_fsa['ConfidenceInManagement'].append(item['scores']['ConfidenceInManagement'])\n",
    "        except:\n",
    "            rest_fsa['ConfidenceInManagement'].append(np.nan)\n",
    "        try:\n",
    "            rest_fsa['longitude'].append(item['geocode']['longitude'])\n",
    "        except:\n",
    "            rest_fsa['longitude'].append(np.nan)          \n",
    "        try:\n",
    "            rest_fsa['latitude'].append(item['geocode']['latitude'])\n",
    "        except:\n",
    "            rest_fsa['latitude'].append(np.nan)     \n",
    "        try:\n",
    "            rest_fsa['RightToReply'].append(item['RightToReply'])\n",
    "        except:\n",
    "            rest_fsa['RightToReply'].append(np.nan)     \n",
    "        try:\n",
    "            rest_fsa['NewRatingPending'].append(item['NewRatingPending'])\n",
    "        except:\n",
    "            rest_fsa['NewRatingPending'].append(np.nan)   \n",
    "\n",
    "    rest_fsa = pd.DataFrame(rest_fsa)\n",
    "    return rest_fsa\n"
   ]
  },
  {
   "cell_type": "code",
   "execution_count": null,
   "id": "aa7e707b",
   "metadata": {},
   "outputs": [],
   "source": [
    "# query API - get data for all relevant local authorities and save to csv\n",
    "\n",
    "url = 'http://api.ratings.food.gov.uk/establishments'\n",
    "headers = {'x-api-version': '2'}\n",
    "\n",
    "for reg_id in all_reg_ids:\n",
    "    params = {'localAuthorityId': reg_id}\n",
    "    response = requests.get(url=url, headers=headers, params=params, timeout=10)\n",
    "    data_dict = response.json()\n",
    "    df = convert_to_df(data_dict)\n",
    "    df.to_csv('FHRS_{}.csv'.format(reg_id), index=True)\n"
   ]
  },
  {
   "cell_type": "code",
   "execution_count": null,
   "id": "3f8a23fc",
   "metadata": {},
   "outputs": [],
   "source": [
    "# combine csv files"
   ]
  },
  {
   "cell_type": "code",
   "execution_count": null,
   "id": "7647ca1c",
   "metadata": {},
   "outputs": [],
   "source": [
    "path = '/Users/katjakrempel/Desktop/capstone/fsa_data/'"
   ]
  },
  {
   "cell_type": "code",
   "execution_count": null,
   "id": "3bbc7417",
   "metadata": {},
   "outputs": [],
   "source": [
    "all_fsa_files = glob.glob(os.path.join(path, 'FHRS_*.csv'))\n",
    "df_from_file = (pd.read_csv(f) for f in all_fsa_files)\n",
    "df_fsa_merged = pd.concat(df_from_file)\n",
    "df_fsa_merged"
   ]
  },
  {
   "cell_type": "code",
   "execution_count": null,
   "id": "17618fb3",
   "metadata": {},
   "outputs": [],
   "source": [
    "# check business types in data set\n",
    "df_fsa_merged['BusinessType'].unique()"
   ]
  },
  {
   "cell_type": "code",
   "execution_count": null,
   "id": "7eb3969a",
   "metadata": {},
   "outputs": [],
   "source": [
    "# exclude irrelevant business types\n",
    "subset = df_fsa_merged[(df_fsa_merged['BusinessType']=='Restaurant/Cafe/Canteen') | \n",
    "                       (df_fsa_merged['BusinessType']=='Takeaway/sandwich shop') |\n",
    "                       (df_fsa_merged['BusinessType']=='Pub/bar/nightclub')]"
   ]
  },
  {
   "cell_type": "code",
   "execution_count": null,
   "id": "4a932956",
   "metadata": {},
   "outputs": [],
   "source": [
    "subset.info()"
   ]
  },
  {
   "cell_type": "code",
   "execution_count": null,
   "id": "9b57eb35",
   "metadata": {},
   "outputs": [],
   "source": [
    "# drop 'Unnamed: 0' column\n",
    "subset.drop(columns=['Unnamed: 0'], inplace=True)"
   ]
  },
  {
   "cell_type": "code",
   "execution_count": null,
   "id": "24c93440",
   "metadata": {},
   "outputs": [],
   "source": [
    "# save dataframe to csv \n",
    "subset.to_csv('all_fsa.csv', index=False)"
   ]
  },
  {
   "cell_type": "code",
   "execution_count": null,
   "id": "4e1b0c92",
   "metadata": {},
   "outputs": [],
   "source": [
    "df = pd.read_csv('/Users/katjakrempel/Desktop/capstone/all_fsa.csv')"
   ]
  },
  {
   "cell_type": "code",
   "execution_count": null,
   "id": "0e300fc9",
   "metadata": {},
   "outputs": [],
   "source": [
    "df.head(10)"
   ]
  },
  {
   "cell_type": "code",
   "execution_count": null,
   "id": "17d51b78",
   "metadata": {},
   "outputs": [],
   "source": [
    "df.info()"
   ]
  },
  {
   "cell_type": "code",
   "execution_count": null,
   "id": "a81ff153",
   "metadata": {},
   "outputs": [],
   "source": []
  },
  {
   "cell_type": "code",
   "execution_count": null,
   "id": "09d08ec2",
   "metadata": {},
   "outputs": [],
   "source": []
  },
  {
   "cell_type": "code",
   "execution_count": null,
   "id": "f5079bfa",
   "metadata": {},
   "outputs": [],
   "source": []
  },
  {
   "cell_type": "code",
   "execution_count": null,
   "id": "bc6db0ec",
   "metadata": {},
   "outputs": [],
   "source": []
  }
 ],
 "metadata": {
  "kernelspec": {
   "display_name": "Python 3",
   "language": "python",
   "name": "python3"
  },
  "language_info": {
   "codemirror_mode": {
    "name": "ipython",
    "version": 3
   },
   "file_extension": ".py",
   "mimetype": "text/x-python",
   "name": "python",
   "nbconvert_exporter": "python",
   "pygments_lexer": "ipython3",
   "version": "3.8.8"
  }
 },
 "nbformat": 4,
 "nbformat_minor": 5
}
